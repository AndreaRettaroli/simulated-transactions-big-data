{
    "cells": [
     {
      "cell_type": "markdown",
      "id": "e8daa00e-820f-4ff2-8d67-feefc2fa5256",
      "metadata": {},
      "source": [
       "# Big Data Project - Simulated Transactions - 21/22\n",
       "\n",
       "<strong>Andrea Rettaroli</strong> - 0000977930\n"
      ]
     },
     {
      "cell_type": "markdown",
      "id": "c7e0f747-32ba-4aa6-a353-6f81b3159edd",
      "metadata": {},
      "source": [
       "### Simulated Transactions - Dataset Analysis\n",
       "\n",
       "The goal of this notebook is to analyze and extract some useful informations from [kaggle simulated-transactions dataset](https://www.kaggle.com/datasets/conorsully1/simulated-transactions). \n",
       "\n",
       "The dataset contains ~22GB of data that represents random transactions.\n",
       "[Notebook used to generate data](https://github.com/conorosully/medium-articles/blob/master/src/transaction_data_generator.ipynb).\n",
       "\n",
       "Transactions are generated for 75,000 customers and are classified into 12 expenditure types:\n",
       "\n",
       "- Groceries\n",
       "- Clothing\n",
       "- Housing\n",
       "- Education\n",
       "- Health\n",
       "- Motor/Travel\n",
       "- Entertainment\n",
       "- Gambling\n",
       "- Savings\n",
       "- Bills and Utilities\n",
       "- Tax\n",
       "- Fines\n",
       "\n",
       "Each transaction is represented by 10 features/columns:\n",
       "\n",
       "- <strong> CUST_ID</strong>: unique ID for every customer\n",
       "- <strong> START_DATE</strong>: the month the customer started making transactions\n",
       "- <strong> END_DATE</strong>: the month the customer stopped making transactions\n",
       "- <strong> TRANS_ID</strong>: unique ID for every transaction\n",
       "- <strong> DATE</strong>: the date of the transaction\n",
       "- <strong> YEAR</strong>: the year of the transaction\n",
       "- <strong> MONTH</strong>: the month of the transaction\n",
       "- <strong> DAY</strong>: the day of the transaction\n",
       "- <strong> EXP_TYPE</strong>: the expenditure type (listed above)\n",
       "- <strong> AMOUNT</strong>: the amount of the transaction in dollars $"
      ]
     },
     {
      "attachments": {},
      "cell_type": "markdown",
      "id": "5e2bf7cb-9a72-458e-b412-34163415bd98",
      "metadata": {},
      "source": [
       "# Cluster configuration\n",
       "\n",
       "Let's start by eneble to connetct to spark ui and setting the proper cluster configuration as saw in labs. \n",
       "\n",
       "- 3 executors with 3 cores each (leave 1 for daemons; and there's also the AMP)\n",
       "- 8G of memory per executor (recommended 11G, but it exceeds YARN's default maximum allowed in this EMR cluster)"
      ]
     },
     {
      "cell_type": "code",
      "execution_count": 1,
      "id": "19895b82-ef78-4a73-8369-03704c2230a5",
      "metadata": {
       "execution": {
        "iopub.execute_input": "2023-02-08T15:39:11.978037Z",
        "iopub.status.busy": "2023-02-08T15:39:11.977809Z",
        "iopub.status.idle": "2023-02-08T15:39:40.690755Z",
        "shell.execute_reply": "2023-02-08T15:39:40.690042Z",
        "shell.execute_reply.started": "2023-02-08T15:39:11.978010Z"
       },
       "tags": []
      },
      "outputs": [
       {
        "data": {
         "application/vnd.jupyter.widget-view+json": {
          "model_id": "406aa76c17104db4bc2c61eb405e55ca",
          "version_major": 2,
          "version_minor": 0
         },
         "text/plain": [
          "VBox()"
         ]
        },
        "metadata": {},
        "output_type": "display_data"
       },
       {
        "name": "stdout",
        "output_type": "stream",
        "text": [
         "Starting Spark application\n"
        ]
       },
       {
        "data": {
         "text/html": [
          "<table>\n",
          "<tr><th>ID</th><th>YARN Application ID</th><th>Kind</th><th>State</th><th>Spark UI</th><th>Driver log</th><th>Current session?</th></tr><tr><td>0</td><td>application_1675870113676_0002</td><td>spark</td><td>idle</td><td><a target=\"_blank\" href=\"http://ip-172-31-31-127.ec2.internal:20888/proxy/application_1675870113676_0002/\" class=\"emr-proxy-link\" emr-resource=\"j-1WP2HNV8G3P0H\n",
          "\" application-id=\"application_1675870113676_0002\">Link</a></td><td><a target=\"_blank\" href=\"http://ip-172-31-20-212.ec2.internal:8042/node/containerlogs/container_1675870113676_0002_01_000001/livy\" >Link</a></td><td>✔</td></tr></table>"
         ],
         "text/plain": [
          "<IPython.core.display.HTML object>"
         ]
        },
        "metadata": {},
        "output_type": "display_data"
       },
       {
        "data": {
         "application/vnd.jupyter.widget-view+json": {
          "model_id": "",
          "version_major": 2,
          "version_minor": 0
         },
         "text/plain": [
          "FloatProgress(value=0.0, bar_style='info', description='Progress:', layout=Layout(height='25px', width='50%'),…"
         ]
        },
        "metadata": {},
        "output_type": "display_data"
       },
       {
        "name": "stdout",
        "output_type": "stream",
        "text": [
         "SparkSession available as 'spark'.\n"
        ]
       },
       {
        "data": {
         "application/vnd.jupyter.widget-view+json": {
          "model_id": "",
          "version_major": 2,
          "version_minor": 0
         },
         "text/plain": [
          "FloatProgress(value=0.0, bar_style='info', description='Progress:', layout=Layout(height='25px', width='50%'),…"
         ]
        },
        "metadata": {},
        "output_type": "display_data"
       },
       {
        "name": "stdout",
        "output_type": "stream",
        "text": [
         "res1: String = application_1675870113676_0002\n",
         "res2: String = SPARK UI: Enable forwarding of port 20888 and connect to http://localhost:20888/proxy/application_1675870113676_0002/\n"
        ]
       }
      ],
      "source": [
       "sc.applicationId\n",
       "\"SPARK UI: Enable forwarding of port 20888 and connect to http://localhost:20888/proxy/\" + sc.applicationId + \"/\""
      ]
     },
     {
      "cell_type": "code",
      "execution_count": 2,
      "id": "97af8225-f42d-4fdd-ad1f-525837be0a92",
      "metadata": {
       "execution": {
        "iopub.execute_input": "2023-02-08T15:40:54.715182Z",
        "iopub.status.busy": "2023-02-08T15:40:54.714968Z",
        "iopub.status.idle": "2023-02-08T15:41:39.547448Z",
        "shell.execute_reply": "2023-02-08T15:41:39.546872Z",
        "shell.execute_reply.started": "2023-02-08T15:40:54.715159Z"
       },
       "tags": []
      },
      "outputs": [
       {
        "name": "stdout",
        "output_type": "stream",
        "text": [
         "Starting Spark application\n"
        ]
       },
       {
        "data": {
         "text/html": [
          "<table>\n",
          "<tr><th>ID</th><th>YARN Application ID</th><th>Kind</th><th>State</th><th>Spark UI</th><th>Driver log</th><th>Current session?</th></tr><tr><td>1</td><td>application_1675870113676_0003</td><td>spark</td><td>idle</td><td><a target=\"_blank\" href=\"http://ip-172-31-31-127.ec2.internal:20888/proxy/application_1675870113676_0003/\" class=\"emr-proxy-link\" emr-resource=\"j-1WP2HNV8G3P0H\n",
          "\" application-id=\"application_1675870113676_0003\">Link</a></td><td><a target=\"_blank\" href=\"http://ip-172-31-20-212.ec2.internal:8042/node/containerlogs/container_1675870113676_0003_01_000001/livy\" >Link</a></td><td>✔</td></tr></table>"
         ],
         "text/plain": [
          "<IPython.core.display.HTML object>"
         ]
        },
        "metadata": {},
        "output_type": "display_data"
       },
       {
        "data": {
         "application/vnd.jupyter.widget-view+json": {
          "model_id": "",
          "version_major": 2,
          "version_minor": 0
         },
         "text/plain": [
          "FloatProgress(value=0.0, bar_style='info', description='Progress:', layout=Layout(height='25px', width='50%'),…"
         ]
        },
        "metadata": {},
        "output_type": "display_data"
       },
       {
        "name": "stdout",
        "output_type": "stream",
        "text": [
         "SparkSession available as 'spark'.\n"
        ]
       },
       {
        "data": {
         "text/html": [
          "Current session configs: <tt>{'executorMemory': '8G', 'numExecutors': 3, 'executorCores': 3, 'conf': {'spark.dynamicAllocation.enabled': 'false'}, 'proxyUser': 'assumed-role_voclabs_user2321830_Andrea_Rettaroli', 'kind': 'spark'}</tt><br>"
         ],
         "text/plain": [
          "<IPython.core.display.HTML object>"
         ]
        },
        "metadata": {},
        "output_type": "display_data"
       },
       {
        "data": {
         "text/html": [
          "<table>\n",
          "<tr><th>ID</th><th>YARN Application ID</th><th>Kind</th><th>State</th><th>Spark UI</th><th>Driver log</th><th>Current session?</th></tr><tr><td>1</td><td>application_1675870113676_0003</td><td>spark</td><td>idle</td><td><a target=\"_blank\" href=\"http://ip-172-31-31-127.ec2.internal:20888/proxy/application_1675870113676_0003/\" class=\"emr-proxy-link\" emr-resource=\"j-1WP2HNV8G3P0H\n",
          "\" application-id=\"application_1675870113676_0003\">Link</a></td><td><a target=\"_blank\" href=\"http://ip-172-31-20-212.ec2.internal:8042/node/containerlogs/container_1675870113676_0003_01_000001/livy\" >Link</a></td><td>✔</td></tr></table>"
         ],
         "text/plain": [
          "<IPython.core.display.HTML object>"
         ]
        },
        "metadata": {},
        "output_type": "display_data"
       }
      ],
      "source": [
       "%%configure -f\n",
       "{\"executorMemory\":\"8G\", \"numExecutors\":3, \"executorCores\":3, \"conf\": {\"spark.dynamicAllocation.enabled\": \"false\"}}"
      ]
     },
     {
      "attachments": {},
      "cell_type": "markdown",
      "id": "4aa59912-17dc-4a09-bdb8-2cfb8653bb4d",
      "metadata": {},
      "source": [
       "# Dataset Preprocessing \n",
       "\n",
       "After an analysis of the dataset I decided to:\n",
       "- Removing the **DATE** column because it is the aggregation of the colums year, month and day that are more useful for the next jobs.\n",
       "- creating some smaller datasets to test the correctness of the functions.\n",
       "\n",
       "This section need to be executed only the first time."
      ]
     },
     {
      "cell_type": "code",
      "execution_count": 3,
      "id": "4f17f6e6-7a0c-4336-8d56-9d6266f15bdd",
      "metadata": {
       "execution": {
        "iopub.execute_input": "2023-02-08T15:47:20.924012Z",
        "iopub.status.busy": "2023-02-08T15:47:20.923783Z",
        "iopub.status.idle": "2023-02-08T15:47:22.222752Z",
        "shell.execute_reply": "2023-02-08T15:47:22.221909Z",
        "shell.execute_reply.started": "2023-02-08T15:47:20.923988Z"
       },
       "tags": []
      },
      "outputs": [
       {
        "data": {
         "application/vnd.jupyter.widget-view+json": {
          "model_id": "2e0bb87cbe844acbab5f07ae4f9b7290",
          "version_major": 2,
          "version_minor": 0
         },
         "text/plain": [
          "VBox()"
         ]
        },
        "metadata": {},
        "output_type": "display_data"
       },
       {
        "data": {
         "application/vnd.jupyter.widget-view+json": {
          "model_id": "",
          "version_major": 2,
          "version_minor": 0
         },
         "text/plain": [
          "FloatProgress(value=0.0, bar_style='info', description='Progress:', layout=Layout(height='25px', width='50%'),…"
         ]
        },
        "metadata": {},
        "output_type": "display_data"
       },
       {
        "name": "stdout",
        "output_type": "stream",
        "text": [
         "bucketname: String = unibo-bd2122-arettaroli\n",
         "s3_path_dataset: String = s3a://unibo-bd2122-arettaroli/exam-dataset/transactions.csv\n",
         "s3_path_dataset_cleaned: String = s3a://unibo-bd2122-arettaroli/exam-dataset/transactions-cleaned.csv\n",
         "s3_path_dataset_small: String = s3a://unibo-bd2122-arettaroli/exam-dataset/transactions-small.csv\n",
         "s3_path_dataset_smallest: String = s3a://unibo-bd2122-arettaroli/exam-dataset/transactions-smallest.csv\n"
        ]
       }
      ],
      "source": [
       "// Name of bucket in s3\n",
       "val bucketname = \"unibo-bd2122-arettaroli\"\n",
       "// Paths of datasets\n",
       "// S3 path of simulated transactions dataset\n",
       "val s3_path_dataset = \"s3a://\"+bucketname+\"/exam-dataset/transactions.csv\"\n",
       "// S3 path of cleaned dataset without column \"date\"\n",
       "val s3_path_dataset_cleaned = \"s3a://\"+bucketname+\"/exam-dataset/transactions-cleaned.csv\"\n",
       "// S3 path of dataset without column \"date\" with 30% of data for optimization\n",
       "val s3_path_dataset_small = \"s3a://\"+bucketname+\"/exam-dataset/transactions-small.csv\"\n",
       "// S3 path of dataset without column \"date\" with 15 rows (to test the correct functioning of the jobs)\n",
       "val s3_path_dataset_smallest = \"s3a://\"+bucketname+\"/exam-dataset/transactions-smallest.csv\""
      ]
     },
     {
      "cell_type": "code",
      "execution_count": 4,
      "id": "a4a60971-4a1c-45d5-abd3-f7039d0de734",
      "metadata": {
       "execution": {
        "iopub.execute_input": "2023-02-08T15:47:37.228161Z",
        "iopub.status.busy": "2023-02-08T15:47:37.227928Z",
        "iopub.status.idle": "2023-02-08T15:53:04.087661Z",
        "shell.execute_reply": "2023-02-08T15:53:04.087000Z",
        "shell.execute_reply.started": "2023-02-08T15:47:37.228136Z"
       },
       "tags": []
      },
      "outputs": [
       {
        "data": {
         "application/vnd.jupyter.widget-view+json": {
          "model_id": "99c675af2dc547d9830c70d29bcd62c5",
          "version_major": 2,
          "version_minor": 0
         },
         "text/plain": [
          "VBox()"
         ]
        },
        "metadata": {},
        "output_type": "display_data"
       },
       {
        "data": {
         "application/vnd.jupyter.widget-view+json": {
          "model_id": "",
          "version_major": 2,
          "version_minor": 0
         },
         "text/plain": [
          "FloatProgress(value=0.0, bar_style='info', description='Progress:', layout=Layout(height='25px', width='50%'),…"
         ]
        },
        "metadata": {},
        "output_type": "display_data"
       }
      ],
      "source": [
       "// Read data from the simulated transactions dataset, drops the column DATE (_c4) then save to another csv.\n",
       "spark.\n",
       "  read.\n",
       "  csv(s3_path_dataset).\n",
       "  drop(\"_c4\").\n",
       "  write.\n",
       "  csv(s3_path_dataset_cleaned)"
      ]
     },
     {
      "cell_type": "code",
      "execution_count": 5,
      "id": "84d3c55d-6628-4e7c-8c9e-46dd7443039d",
      "metadata": {
       "execution": {
        "iopub.execute_input": "2023-02-08T15:54:57.975372Z",
        "iopub.status.busy": "2023-02-08T15:54:57.975153Z",
        "iopub.status.idle": "2023-02-08T16:00:52.390542Z",
        "shell.execute_reply": "2023-02-08T16:00:52.389809Z",
        "shell.execute_reply.started": "2023-02-08T15:54:57.975349Z"
       },
       "tags": []
      },
      "outputs": [
       {
        "data": {
         "application/vnd.jupyter.widget-view+json": {
          "model_id": "2d227992094c4443af86e52d4a4702b7",
          "version_major": 2,
          "version_minor": 0
         },
         "text/plain": [
          "VBox()"
         ]
        },
        "metadata": {},
        "output_type": "display_data"
       },
       {
        "data": {
         "application/vnd.jupyter.widget-view+json": {
          "model_id": "",
          "version_major": 2,
          "version_minor": 0
         },
         "text/plain": [
          "FloatProgress(value=0.0, bar_style='info', description='Progress:', layout=Layout(height='25px', width='50%'),…"
         ]
        },
        "metadata": {},
        "output_type": "display_data"
       }
      ],
      "source": [
       "// Read data from csv, limit the number of rows considering the 30% of data for optimization\n",
       "// Number of transactions: 261969719 => 30% of transactions is : 78.590.915,7 => 78500000 \n",
       "spark.\n",
       "  read.\n",
       "  csv(s3_path_dataset_cleaned).\n",
       "  limit(78500000). \n",
       "  write.\n",
       "  csv(s3_path_dataset_small)"
      ]
     },
     {
      "cell_type": "code",
      "execution_count": 6,
      "id": "11f1b511-2533-4a63-97da-55f6eb7fd7cb",
      "metadata": {
       "execution": {
        "iopub.execute_input": "2023-02-08T16:03:20.344728Z",
        "iopub.status.busy": "2023-02-08T16:03:20.344515Z",
        "iopub.status.idle": "2023-02-08T16:03:29.660140Z",
        "shell.execute_reply": "2023-02-08T16:03:29.659412Z",
        "shell.execute_reply.started": "2023-02-08T16:03:20.344706Z"
       },
       "tags": []
      },
      "outputs": [
       {
        "data": {
         "application/vnd.jupyter.widget-view+json": {
          "model_id": "6e63bc7d4f764beb9a986426ae6908b4",
          "version_major": 2,
          "version_minor": 0
         },
         "text/plain": [
          "VBox()"
         ]
        },
        "metadata": {},
        "output_type": "display_data"
       },
       {
        "data": {
         "application/vnd.jupyter.widget-view+json": {
          "model_id": "",
          "version_major": 2,
          "version_minor": 0
         },
         "text/plain": [
          "FloatProgress(value=0.0, bar_style='info', description='Progress:', layout=Layout(height='25px', width='50%'),…"
         ]
        },
        "metadata": {},
        "output_type": "display_data"
       }
      ],
      "source": [
       "// Save a small set of data for check the results of following jobs\n",
       "spark.\n",
       "  read.\n",
       "  csv(s3_path_dataset_cleaned).\n",
       "  limit(10).\n",
       "  write.\n",
       "  csv(s3_path_dataset_smallest)"
      ]
     },
     {
      "cell_type": "markdown",
      "id": "3eeeed29-c86e-433a-941f-9cd448828de1",
      "metadata": {},
      "source": [
       "# Dataset preparation\n",
       "\n",
       "\n",
       "In order to read each transaction is useful to define an object **TransactionsParser** to parse the transactions from the csv file. \n",
       "\n",
       "Each value in the csv is divided by ',' (comma) so for each line it's possible to retrieve values splitting on comma.\n"
      ]
     },
     {
      "cell_type": "code",
      "execution_count": 7,
      "id": "9e8ff8be-e488-48e3-8e6a-0c51eedad4ab",
      "metadata": {
       "execution": {
        "iopub.execute_input": "2023-02-08T16:05:16.017073Z",
        "iopub.status.busy": "2023-02-08T16:05:16.016845Z",
        "iopub.status.idle": "2023-02-08T16:05:17.304796Z",
        "shell.execute_reply": "2023-02-08T16:05:17.304058Z",
        "shell.execute_reply.started": "2023-02-08T16:05:16.017048Z"
       },
       "tags": []
      },
      "outputs": [
       {
        "data": {
         "application/vnd.jupyter.widget-view+json": {
          "model_id": "ed14f069e2614aa58db27ad525800fca",
          "version_major": 2,
          "version_minor": 0
         },
         "text/plain": [
          "VBox()"
         ]
        },
        "metadata": {},
        "output_type": "display_data"
       },
       {
        "data": {
         "application/vnd.jupyter.widget-view+json": {
          "model_id": "",
          "version_major": 2,
          "version_minor": 0
         },
         "text/plain": [
          "FloatProgress(value=0.0, bar_style='info', description='Progress:', layout=Layout(height='25px', width='50%'),…"
         ]
        },
        "metadata": {},
        "output_type": "display_data"
       },
       {
        "name": "stdout",
        "output_type": "stream",
        "text": [
         "import java.util.Calendar\n",
         "import org.apache.spark.sql.SaveMode\n",
         "import org.apache.spark.HashPartitioner\n",
         "defined object TransactionsParser\n"
        ]
       }
      ],
      "source": [
       "import java.util.Calendar\n",
       "import org.apache.spark.sql.SaveMode\n",
       "import org.apache.spark.HashPartitioner\n",
       "\n",
       "object TransactionsParser {\n",
       "  // Each value in the csv is divided by ','\n",
       "  val commaRegex = \",(?=(?:[^\\\"]*\\\"[^\\\"]*\\\")*[^\\\"]*$)\"\n",
       "    \n",
       "  type CustomerId = String\n",
       "  type StartDate = String\n",
       "  type EndDate = String\n",
       "  type TransactionId = String \n",
       "  // type TransactionDate = String\n",
       "  type Year = Int\n",
       "  type Month = Int\n",
       "  type Day = Int\n",
       "  type ExpenditureType = String\n",
       "  type Amount = Double\n",
       "  \n",
       "  def parseTransactionLine(line: String): Option[(CustomerId, StartDate, EndDate, TransactionId, Year, Month, Day, ExpenditureType, Amount)] = {\n",
       "    try {\n",
       "      val input = line.split(commaRegex) // Splitting on comma\n",
       "      if (input(0) == \"CUST_ID\") { // To discard the headers column line\n",
       "          None\n",
       "      }\n",
       "      Some(input(0).trim, input(1).trim, input(2).trim, input(3).trim, \n",
       "           input(4).trim.toInt, input(5).trim.toInt, input(6).trim.toInt, input(7).trim, input(8).trim.toDouble)\n",
       "      \n",
       "    } catch {\n",
       "      case _: Exception => None\n",
       "    }\n",
       "  }\n",
       "}"
      ]
     },
     {
      "cell_type": "markdown",
      "id": "424f37f8-89af-4420-8081-62a47fa44d58",
      "metadata": {},
      "source": [
       "The dataset without date column size is about ~18.5 GB. (167 partition of 111.3MB)\n",
       "it was decided to save the data by serializing them in memory and disk. In this way when the memory is full, the disk is used.\n",
       "\n",
       "Regarding partitions, by default spark creates 665 partitions for this dataset which is a lot, each task should take at least 100-200ms and with the same total execution time it is better to partition less in this case."
      ]
     },
     {
      "cell_type": "code",
      "execution_count": 12,
      "id": "22d77173-1440-488c-a15e-c303246e6395",
      "metadata": {
       "execution": {
        "iopub.execute_input": "2023-02-08T16:25:13.409854Z",
        "iopub.status.busy": "2023-02-08T16:25:13.409629Z",
        "iopub.status.idle": "2023-02-08T16:25:14.692525Z",
        "shell.execute_reply": "2023-02-08T16:25:14.691967Z",
        "shell.execute_reply.started": "2023-02-08T16:25:13.409829Z"
       },
       "tags": []
      },
      "outputs": [
       {
        "data": {
         "application/vnd.jupyter.widget-view+json": {
          "model_id": "1e64c3f4cbd54a2ea6cad2dd82782e0e",
          "version_major": 2,
          "version_minor": 0
         },
         "text/plain": [
          "VBox()"
         ]
        },
        "metadata": {},
        "output_type": "display_data"
       },
       {
        "data": {
         "application/vnd.jupyter.widget-view+json": {
          "model_id": "",
          "version_major": 2,
          "version_minor": 0
         },
         "text/plain": [
          "FloatProgress(value=0.0, bar_style='info', description='Progress:', layout=Layout(height='25px', width='50%'),…"
         ]
        },
        "metadata": {},
        "output_type": "display_data"
       },
       {
        "name": "stdout",
        "output_type": "stream",
        "text": [
         "import org.apache.spark.storage.StorageLevel._\n",
         "rddTransactions: org.apache.spark.rdd.RDD[(TransactionsParser.CustomerId, TransactionsParser.StartDate, TransactionsParser.EndDate, TransactionsParser.TransactionId, TransactionsParser.Year, TransactionsParser.Month, TransactionsParser.Day, TransactionsParser.ExpenditureType, TransactionsParser.Amount)] = CoalescedRDD[73] at coalesce at <console>:49\n",
         "diskMemoryRdd: rddTransactions.type = CoalescedRDD[73] at coalesce at <console>:49\n",
         "rddTransactions_smallest: org.apache.spark.rdd.RDD[(TransactionsParser.CustomerId, TransactionsParser.StartDate, TransactionsParser.EndDate, TransactionsParser.TransactionId, TransactionsParser.Year, TransactionsParser.Month, TransactionsParser.Day, TransactionsParser.ExpenditureType, TransactionsParser.Amount)] = MapPartitionsRDD[76] at flatMap at <console>:46\n",
         "diskMemoryRdd_smallest: rddTransactions_smallest.type = MapPartitionsRDD[76] at flatMap at <console>:46\n"
        ]
       }
      ],
      "source": [
       "import org.apache.spark.storage.StorageLevel._\n",
       "\n",
       "// Each row is flatMapped with parseTransactionLine method\n",
       "\n",
       "//val rddTransactionsOriginal = sc.textFile(s3_path_dataset).flatMap(TransactionsParser.parseTransactionLine)\n",
       "//val rddTransactions = sc.textFile(s3_path_dataset_small).flatMap(TransactionsParser.parseTransactionLine).coalesce(60)\n",
       "val rddTransactions = sc.textFile(s3_path_dataset_cleaned).flatMap(TransactionsParser.parseTransactionLine).coalesce(300)\n",
       "// Persist on memory and disk with serialization\n",
       "val diskMemoryRdd = rddTransactions.persist(MEMORY_AND_DISK_SER) \n",
       "\n",
       "// Same for the smallest (10 rows)\n",
       "val rddTransactions_smallest = sc.textFile(s3_path_dataset_smallest).flatMap(TransactionsParser.parseTransactionLine)\n",
       "// Persist on memory and disk with serialization\n",
       "val diskMemoryRdd_smallest = rddTransactions_smallest.persist(MEMORY_AND_DISK_SER) "
      ]
     },
     {
      "cell_type": "code",
      "execution_count": 13,
      "id": "bf5ad92c-8c3f-4312-a05d-9cdff17532de",
      "metadata": {
       "execution": {
        "iopub.execute_input": "2023-02-08T16:25:17.210233Z",
        "iopub.status.busy": "2023-02-08T16:25:17.210004Z",
        "iopub.status.idle": "2023-02-08T16:25:18.010557Z",
        "shell.execute_reply": "2023-02-08T16:25:18.009650Z",
        "shell.execute_reply.started": "2023-02-08T16:25:17.210207Z"
       },
       "tags": []
      },
      "outputs": [
       {
        "data": {
         "application/vnd.jupyter.widget-view+json": {
          "model_id": "b0ddc2ff87e7472f9f1f1ca41c6a59a0",
          "version_major": 2,
          "version_minor": 0
         },
         "text/plain": [
          "VBox()"
         ]
        },
        "metadata": {},
        "output_type": "display_data"
       },
       {
        "data": {
         "application/vnd.jupyter.widget-view+json": {
          "model_id": "",
          "version_major": 2,
          "version_minor": 0
         },
         "text/plain": [
          "FloatProgress(value=0.0, bar_style='info', description='Progress:', layout=Layout(height='25px', width='50%'),…"
         ]
        },
        "metadata": {},
        "output_type": "display_data"
       },
       {
        "name": "stdout",
        "output_type": "stream",
        "text": [
         "(CPVZ2MIAO3,2010-07-01,2017-01-01,T18P9KZ3O350W73,2012,4,5,Entertainment,21.48)\n",
         "(CPVZ2MIAO3,2010-07-01,2017-01-01,T2N065QH3L11AZS,2015,5,24,Entertainment,17.25)\n",
         "(CPVZ2MIAO3,2010-07-01,2017-01-01,TRNQXHP2B5T069M,2014,3,5,Education,412.9)\n",
         "(CPVZ2MIAO3,2010-07-01,2017-01-01,T9PQMGLRKOAI2SJ,2012,9,13,Entertainment,19.18)\n",
         "(CPVZ2MIAO3,2010-07-01,2017-01-01,TS5UMAAB2WWPNXW,2016,5,13,Entertainment,18.66)\n",
         "(CPVZ2MIAO3,2010-07-01,2017-01-01,T48ZCBVO5UW71NC,2013,12,9,Groceries,63.61)\n",
         "(CPVZ2MIAO3,2010-07-01,2017-01-01,T8K9FUYYV2OY9WB,2015,12,4,Entertainment,45.66)\n",
         "(CPVZ2MIAO3,2010-07-01,2017-01-01,T2Y5VJ9D579QGTB,2012,8,5,Entertainment,49.35)\n",
         "(CPVZ2MIAO3,2010-07-01,2017-01-01,T13QP1402CVF9PW,2012,9,22,Groceries,56.19)\n",
         "(CPVZ2MIAO3,2010-07-01,2017-01-01,TY7N8BTA0ASGXO9,2011,7,18,Groceries,64.94)\n"
        ]
       }
      ],
      "source": [
       "//data preview\n",
       "diskMemoryRdd_smallest.\n",
       "    collect().\n",
       "    foreach(transaction => print(transaction + \"\\n\"))"
      ]
     },
     {
      "cell_type": "markdown",
      "id": "29562fc2-e94b-490b-97fe-3052aec92229",
      "metadata": {
       "execution": {
        "iopub.execute_input": "2023-02-08T17:38:14.413917Z",
        "iopub.status.busy": "2023-02-08T17:38:14.413694Z",
        "iopub.status.idle": "2023-02-08T17:38:14.681874Z",
        "shell.execute_reply": "2023-02-08T17:38:14.681193Z",
        "shell.execute_reply.started": "2023-02-08T17:38:14.413893Z"
       },
       "tags": []
      },
      "source": [
       "**DEBUG: use to see RDDs partitions status**: the cell below show the RDDs partiotions status."
      ]
     },
     {
      "cell_type": "code",
      "execution_count": 24,
      "id": "e9c2fce6-138e-4018-914a-bc5b72f2bdf6",
      "metadata": {
       "execution": {
        "iopub.execute_input": "2023-02-08T17:39:27.003087Z",
        "iopub.status.busy": "2023-02-08T17:39:27.002862Z",
        "iopub.status.idle": "2023-02-08T17:39:27.769263Z",
        "shell.execute_reply": "2023-02-08T17:39:27.768691Z",
        "shell.execute_reply.started": "2023-02-08T17:39:27.003063Z"
       },
       "tags": []
      },
      "outputs": [
       {
        "data": {
         "application/vnd.jupyter.widget-view+json": {
          "model_id": "42dda74363114d2eb9d1e8b7dcb924ad",
          "version_major": 2,
          "version_minor": 0
         },
         "text/plain": [
          "VBox()"
         ]
        },
        "metadata": {},
        "output_type": "display_data"
       },
       {
        "data": {
         "application/vnd.jupyter.widget-view+json": {
          "model_id": "",
          "version_major": 2,
          "version_minor": 0
         },
         "text/plain": [
          "FloatProgress(value=0.0, bar_style='info', description='Progress:', layout=Layout(height='25px', width='50%'),…"
         ]
        },
        "metadata": {},
        "output_type": "display_data"
       },
       {
        "name": "stdout",
        "output_type": "stream",
        "text": [
         "RDD \"MapPartitionsRDD\" (69) StorageLevel: StorageLevel(disk, memory, 1 replicas); CachedPartitions: 2; TotalPartitions: 2; MemorySize: 0.0 B; DiskSize: 1662.0 B\n",
         "RDD \"CoalescedRDD\" (73) StorageLevel: StorageLevel(disk, memory, 1 replicas); CachedPartitions: 300; TotalPartitions: 300; MemorySize: 0.0 B; DiskSize: 71.3 GiB\n",
         "RDD \"MapPartitionsRDD\" (78) StorageLevel: StorageLevel(disk, memory, 1 replicas); CachedPartitions: 300; TotalPartitions: 300; MemorySize: 0.0 B; DiskSize: 1499.0 MiB\n",
         "RDD \"MapPartitionsRDD\" (80) StorageLevel: StorageLevel(disk, memory, 1 replicas); CachedPartitions: 300; TotalPartitions: 300; MemorySize: 0.0 B; DiskSize: 4.3 GiB\n",
         "RDD \"MapPartitionsRDD\" (76) StorageLevel: StorageLevel(disk, memory, 1 replicas); CachedPartitions: 2; TotalPartitions: 2; MemorySize: 0.0 B; DiskSize: 1662.0 B\n",
         "RDD \"MapPartitionsRDD\" (77) StorageLevel: StorageLevel(disk, memory, 1 replicas); CachedPartitions: 300; TotalPartitions: 300; MemorySize: 0.0 B; DiskSize: 3.9 GiB\n",
         "RDD \"MapPartitionsRDD\" (79) StorageLevel: StorageLevel(disk, memory, 1 replicas); CachedPartitions: 300; TotalPartitions: 300; MemorySize: 0.0 B; DiskSize: 3.3 GiB\n"
        ]
       }
      ],
      "source": [
       "sc.getRDDStorageInfo.foreach(x=> print(x + \"\\n\")) "
      ]
     },
     {
      "cell_type": "markdown",
      "id": "4dcec71f-6de1-444e-9410-dd21015363a3",
      "metadata": {},
      "source": [
       "**Use only to clean RDDs in memory**: the cell below clean the RDDs in memory."
      ]
     },
     {
      "cell_type": "code",
      "execution_count": null,
      "id": "debce40c-68ec-4955-9676-9adc83d15a95",
      "metadata": {},
      "outputs": [],
      "source": [
       "sc.getPersistentRDDs.foreach(_._2.unpersist())"
      ]
     },
     {
      "cell_type": "markdown",
      "id": "c3f9128b-58c8-48f9-a126-1ad366559ad8",
      "metadata": {},
      "source": [
       "# Dataset exploration\n",
       "\n",
       "In this section various exploration queries are performed on the dataset but also more complex jobs to find useful information from data.\n",
       "\n",
       "To improve drastically the performances data used in different jobs will be cached in memory and disk."
      ]
     },
     {
      "cell_type": "code",
      "execution_count": 14,
      "id": "43110571-a6cf-460d-9752-e8a6960f5da6",
      "metadata": {
       "execution": {
        "iopub.execute_input": "2023-02-08T16:44:01.567331Z",
        "iopub.status.busy": "2023-02-08T16:44:01.567095Z",
        "iopub.status.idle": "2023-02-08T16:44:02.846473Z",
        "shell.execute_reply": "2023-02-08T16:44:02.845861Z",
        "shell.execute_reply.started": "2023-02-08T16:44:01.567306Z"
       },
       "tags": []
      },
      "outputs": [
       {
        "data": {
         "application/vnd.jupyter.widget-view+json": {
          "model_id": "2f066a51b5dc4ca5ad8d6bd673bec6c6",
          "version_major": 2,
          "version_minor": 0
         },
         "text/plain": [
          "VBox()"
         ]
        },
        "metadata": {},
        "output_type": "display_data"
       },
       {
        "data": {
         "application/vnd.jupyter.widget-view+json": {
          "model_id": "",
          "version_major": 2,
          "version_minor": 0
         },
         "text/plain": [
          "FloatProgress(value=0.0, bar_style='info', description='Progress:', layout=Layout(height='25px', width='50%'),…"
         ]
        },
        "metadata": {},
        "output_type": "display_data"
       },
       {
        "name": "stdout",
        "output_type": "stream",
        "text": [
         "cachedCustomer: org.apache.spark.rdd.RDD[TransactionsParser.CustomerId] = MapPartitionsRDD[77] at map at <console>:41\n",
         "cachedYear: org.apache.spark.rdd.RDD[TransactionsParser.Year] = MapPartitionsRDD[78] at map at <console>:40\n",
         "cachedExpenditureType: org.apache.spark.rdd.RDD[TransactionsParser.ExpenditureType] = MapPartitionsRDD[79] at map at <console>:40\n",
         "cachedAmount: org.apache.spark.rdd.RDD[TransactionsParser.Amount] = MapPartitionsRDD[80] at map at <console>:40\n"
        ]
       }
      ],
      "source": [
       "// Caching of customers, amount, year, expenditure type and amount for following jobs to improve performance\n",
       "val cachedCustomer = rddTransactions.map(x=>x._1).persist(MEMORY_AND_DISK_SER)\n",
       "val cachedAmount = rddTransactions.map(x=>x._9).persist(MEMORY_AND_DISK_SER)\n",
       "val cachedYear = rddTransactions.map(x=>x._5).persist(MEMORY_AND_DISK_SER)\n",
       "val cachedExpenditureType = rddTransactions.map(x=>x._8).persist(MEMORY_AND_DISK_SER)"
      ]
     },
     {
      "attachments": {},
      "cell_type": "markdown",
      "id": "c29996e3-26a5-4896-8483-27f51d97b7be",
      "metadata": {
       "execution": {
        "iopub.execute_input": "2023-02-08T16:44:08.906169Z",
        "iopub.status.busy": "2023-02-08T16:44:08.905945Z",
        "iopub.status.idle": "2023-02-08T16:44:09.177874Z",
        "shell.execute_reply": "2023-02-08T16:44:09.176907Z",
        "shell.execute_reply.started": "2023-02-08T16:44:08.906145Z"
       },
       "tags": []
      },
      "source": [
       "To know the size of the dataset entities:\n",
       "- How many transactions? \n",
       "- How many distinct customers?\n",
       "- How many distinct expenditure type?\n",
       "- How many distinct years?\n",
       "- What is min amount and what is the max amount?\n",
       "- From what year to what year?"
      ]
     },
     {
      "cell_type": "code",
      "execution_count": 19,
      "id": "8527faa1-696b-465e-8426-2cc2ba0eac95",
      "metadata": {
       "execution": {
        "iopub.execute_input": "2023-02-08T17:21:54.833105Z",
        "iopub.status.busy": "2023-02-08T17:21:54.832874Z",
        "iopub.status.idle": "2023-02-08T17:25:46.741845Z",
        "shell.execute_reply": "2023-02-08T17:25:46.741106Z",
        "shell.execute_reply.started": "2023-02-08T17:21:54.833080Z"
       },
       "tags": []
      },
      "outputs": [
       {
        "data": {
         "application/vnd.jupyter.widget-view+json": {
          "model_id": "c11bde696fa446358d17f09fa2455d3a",
          "version_major": 2,
          "version_minor": 0
         },
         "text/plain": [
          "VBox()"
         ]
        },
        "metadata": {},
        "output_type": "display_data"
       },
       {
        "data": {
         "application/vnd.jupyter.widget-view+json": {
          "model_id": "",
          "version_major": 2,
          "version_minor": 0
         },
         "text/plain": [
          "FloatProgress(value=0.0, bar_style='info', description='Progress:', layout=Layout(height='25px', width='50%'),…"
         ]
        },
        "metadata": {},
        "output_type": "display_data"
       },
       {
        "name": "stdout",
        "output_type": "stream",
        "text": [
         "res72: String = Number of transactions: 261969718\n",
         "res73: String = Number of distinct customers: 75000\n",
         "res74: String = Number of distinct expenditure type: 12\n",
         "res75: String = Number of distinct years: 11\n",
         "res76: String = Range of amount: 0.12 $ to 6519.61 $\n",
         "res77: String = From year: 2010 to 2020\n"
        ]
       }
      ],
      "source": [
       "\"Number of transactions: \" + (diskMemoryRdd.count() -1) // Each row is a transaction => 261.969.719 -1 without header line\n",
       "\"Number of distinct customers: \" + cachedCustomer.distinct().count() // 75000\n",
       "\"Number of distinct expenditure type: \" + cachedExpenditureType.distinct().count() // 12 \n",
       "\"Number of distinct years: \" + cachedYear.distinct().count() // 11\n",
       "\"Amount goes from: \" + cachedAmount.min() + \" $ to \" + cachedAmount.max() +\" $\" //0.12 to 6519.61\n",
       "\"From year: \" + cachedYear.min() + \" to \" + cachedYear.max() // 2010 to 2020"
      ]
     },
     {
      "cell_type": "markdown",
      "id": "7790f563-9438-41b5-af74-d3e756da3088",
      "metadata": {
       "execution": {
        "iopub.execute_input": "2023-02-08T17:17:18.107820Z",
        "iopub.status.busy": "2023-02-08T17:17:18.107592Z",
        "iopub.status.idle": "2023-02-08T17:20:11.870494Z",
        "shell.execute_reply": "2023-02-08T17:20:11.869918Z",
        "shell.execute_reply.started": "2023-02-08T17:17:18.107795Z"
       },
       "tags": []
      },
      "source": [
       "Learn more about this data set by answering more complex questions such as:\n",
       "- which are the years listed in the dataset in ascending order?\n",
       "- What is the average amount?\n",
       "- What is the average amount calculate for every year?\n",
       "- What is the average amount for each type of expenditure?\n",
       "- What is the maximum amount for each type of expenditure?"
      ]
     },
     {
      "cell_type": "code",
      "execution_count": 25,
      "id": "7964e3c5-16c2-4eda-b0ea-0acdcbfec79d",
      "metadata": {
       "execution": {
        "iopub.execute_input": "2023-02-08T17:39:43.058735Z",
        "iopub.status.busy": "2023-02-08T17:39:43.058502Z",
        "iopub.status.idle": "2023-02-08T17:39:54.371591Z",
        "shell.execute_reply": "2023-02-08T17:39:54.370919Z",
        "shell.execute_reply.started": "2023-02-08T17:39:43.058711Z"
       },
       "tags": []
      },
      "outputs": [
       {
        "data": {
         "application/vnd.jupyter.widget-view+json": {
          "model_id": "b5ffc0c0a236462f9140fcdac80f0520",
          "version_major": 2,
          "version_minor": 0
         },
         "text/plain": [
          "VBox()"
         ]
        },
        "metadata": {},
        "output_type": "display_data"
       },
       {
        "data": {
         "application/vnd.jupyter.widget-view+json": {
          "model_id": "",
          "version_major": 2,
          "version_minor": 0
         },
         "text/plain": [
          "FloatProgress(value=0.0, bar_style='info', description='Progress:', layout=Layout(height='25px', width='50%'),…"
         ]
        },
        "metadata": {},
        "output_type": "display_data"
       },
       {
        "name": "stdout",
        "output_type": "stream",
        "text": [
         "2010\n",
         "2011\n",
         "2012\n",
         "2013\n",
         "2014\n",
         "2015\n",
         "2016\n",
         "2017\n",
         "2018\n",
         "2019\n",
         "2020\n"
        ]
       }
      ],
      "source": [
       "// which are the years listed in the dataset in ascending order?\n",
       "cachedYear.\n",
       "    distinct().\n",
       "    collect().\n",
       "    sorted.\n",
       "    foreach(x=> print(x + \"\\n\"))"
      ]
     },
     {
      "cell_type": "code",
      "execution_count": 26,
      "id": "aa7a4677-3778-4f5e-aa05-60f62e9299c7",
      "metadata": {
       "execution": {
        "iopub.execute_input": "2023-02-08T17:40:07.839434Z",
        "iopub.status.busy": "2023-02-08T17:40:07.839201Z",
        "iopub.status.idle": "2023-02-08T17:40:15.143002Z",
        "shell.execute_reply": "2023-02-08T17:40:15.142402Z",
        "shell.execute_reply.started": "2023-02-08T17:40:07.839410Z"
       },
       "tags": []
      },
      "outputs": [
       {
        "data": {
         "application/vnd.jupyter.widget-view+json": {
          "model_id": "477212cd3bf749d5b61afb4894fd6cce",
          "version_major": 2,
          "version_minor": 0
         },
         "text/plain": [
          "VBox()"
         ]
        },
        "metadata": {},
        "output_type": "display_data"
       },
       {
        "data": {
         "application/vnd.jupyter.widget-view+json": {
          "model_id": "",
          "version_major": 2,
          "version_minor": 0
         },
         "text/plain": [
          "FloatProgress(value=0.0, bar_style='info', description='Progress:', layout=Layout(height='25px', width='50%'),…"
         ]
        },
        "metadata": {},
        "output_type": "display_data"
       },
       {
        "name": "stdout",
        "output_type": "stream",
        "text": [
         "res90: String = Amount on average: 81.56297388367226\n"
        ]
       }
      ],
      "source": [
       "//What is the average amount?\n",
       "\"Amount on average: \" + cachedAmount.mean()"
      ]
     },
     {
      "cell_type": "code",
      "execution_count": 27,
      "id": "ec0b0611-3e5e-462b-a18e-0ec43b249b1a",
      "metadata": {
       "execution": {
        "iopub.execute_input": "2023-02-08T17:48:00.752184Z",
        "iopub.status.busy": "2023-02-08T17:48:00.751958Z",
        "iopub.status.idle": "2023-02-08T17:50:26.431408Z",
        "shell.execute_reply": "2023-02-08T17:50:26.430725Z",
        "shell.execute_reply.started": "2023-02-08T17:48:00.752160Z"
       },
       "tags": []
      },
      "outputs": [
       {
        "data": {
         "application/vnd.jupyter.widget-view+json": {
          "model_id": "fefeaa9206104e899e8c90408329cd39",
          "version_major": 2,
          "version_minor": 0
         },
         "text/plain": [
          "VBox()"
         ]
        },
        "metadata": {},
        "output_type": "display_data"
       },
       {
        "data": {
         "application/vnd.jupyter.widget-view+json": {
          "model_id": "",
          "version_major": 2,
          "version_minor": 0
         },
         "text/plain": [
          "FloatProgress(value=0.0, bar_style='info', description='Progress:', layout=Layout(height='25px', width='50%'),…"
         ]
        },
        "metadata": {},
        "output_type": "display_data"
       },
       {
        "name": "stdout",
        "output_type": "stream",
        "text": [
         "(2010,58.13171661388979)\n",
         "(2011,59.743144310610944)\n",
         "(2012,62.61107660724445)\n",
         "(2013,65.92462474542246)\n",
         "(2014,69.75024925871854)\n",
         "(2015,73.98090515674585)\n",
         "(2016,78.64610882393866)\n",
         "(2017,83.6344258468586)\n",
         "(2018,89.35581974762604)\n",
         "(2019,96.0554856040244)\n",
         "(2020,103.33282605610557)\n"
        ]
       }
      ],
      "source": [
       "// What is the average amount calculate for every year?\n",
       "diskMemoryRdd.\n",
       "    map(x => (x._5, x._9)). //take YEAR and AMOUNT\n",
       "    aggregateByKey((0.0,0.0))((a,v)=>(a._1+v,a._2+1),(a1,a2)=>(a1._1+a2._1,a1._2+a2._2)). //sum AMOUNT on fist value, and count summed AMOUNTs on the second, end it aggregate partitions\n",
       "    map({case(k,v)=>(k,v._1/v._2)}). //calculate the average based on YEAR(key)\n",
       "    sortByKey(). //order on YEAR\n",
       "    collect().\n",
       "    foreach(result => print(result + \"\\n\"))"
      ]
     },
     {
      "cell_type": "code",
      "execution_count": 28,
      "id": "02d3c868-0cfe-4b48-8d12-716fa341514a",
      "metadata": {
       "execution": {
        "iopub.execute_input": "2023-02-08T17:54:00.603931Z",
        "iopub.status.busy": "2023-02-08T17:54:00.603686Z",
        "iopub.status.idle": "2023-02-08T17:54:01.375936Z",
        "shell.execute_reply": "2023-02-08T17:54:01.375240Z",
        "shell.execute_reply.started": "2023-02-08T17:54:00.603901Z"
       },
       "tags": []
      },
      "outputs": [
       {
        "data": {
         "application/vnd.jupyter.widget-view+json": {
          "model_id": "451f90eba6ce4862b3000c0257857e9c",
          "version_major": 2,
          "version_minor": 0
         },
         "text/plain": [
          "VBox()"
         ]
        },
        "metadata": {},
        "output_type": "display_data"
       },
       {
        "data": {
         "application/vnd.jupyter.widget-view+json": {
          "model_id": "",
          "version_major": 2,
          "version_minor": 0
         },
         "text/plain": [
          "FloatProgress(value=0.0, bar_style='info', description='Progress:', layout=Layout(height='25px', width='50%'),…"
         ]
        },
        "metadata": {},
        "output_type": "display_data"
       },
       {
        "name": "stdout",
        "output_type": "stream",
        "text": [
         "cachedExpenditureTypeAmount: org.apache.spark.rdd.RDD[(TransactionsParser.ExpenditureType, TransactionsParser.Amount)] = MapPartitionsRDD[116] at map at <console>:41\n"
        ]
       }
      ],
      "source": [
       "// Caching the pair EXPENDITURE_TYPE - AMOUNT for following jobs to improve performance \n",
       "val cachedExpenditureTypeAmount = rddTransactions.map(x => (x._8, x._9)).persist(MEMORY_AND_DISK_SER)"
      ]
     },
     {
      "cell_type": "code",
      "execution_count": 29,
      "id": "768dc31e-0f22-4c53-ba71-29e32f852171",
      "metadata": {
       "execution": {
        "iopub.execute_input": "2023-02-08T18:03:40.736670Z",
        "iopub.status.busy": "2023-02-08T18:03:40.736424Z",
        "iopub.status.idle": "2023-02-08T18:07:44.695252Z",
        "shell.execute_reply": "2023-02-08T18:07:44.694462Z",
        "shell.execute_reply.started": "2023-02-08T18:03:40.736645Z"
       },
       "tags": []
      },
      "outputs": [
       {
        "data": {
         "application/vnd.jupyter.widget-view+json": {
          "model_id": "1d8e8351abea432898d60bf490b69251",
          "version_major": 2,
          "version_minor": 0
         },
         "text/plain": [
          "VBox()"
         ]
        },
        "metadata": {},
        "output_type": "display_data"
       },
       {
        "data": {
         "application/vnd.jupyter.widget-view+json": {
          "model_id": "",
          "version_major": 2,
          "version_minor": 0
         },
         "text/plain": [
          "FloatProgress(value=0.0, bar_style='info', description='Progress:', layout=Layout(height='25px', width='50%'),…"
         ]
        },
        "metadata": {},
        "output_type": "display_data"
       },
       {
        "name": "stdout",
        "output_type": "stream",
        "text": [
         "(Housing,1558.7478390875365)\n",
         "(Tax,412.9514105976915)\n",
         "(Education,281.19211042051637)\n",
         "(Savings,223.37088318474537)\n",
         "(Bills and Utilities,208.28440022266741)\n",
         "(Clothing,179.36878004462235)\n",
         "(Health,159.31446095332157)\n",
         "(Fines,159.20079085908074)\n",
         "(Motor/Travel,133.3806493405144)\n",
         "(Gambling,105.02011185360799)\n",
         "(Groceries,80.30824109361185)\n",
         "(Entertainment,24.031486539717363)\n"
        ]
       }
      ],
      "source": [
       "// What is the average amount for each type of expenditure?\n",
       "cachedExpenditureTypeAmount.\n",
       "    aggregateByKey((0.0,0.0))((a,v)=>(a._1+v,a._2+1),(a1,a2)=>(a1._1+a2._1,a1._2+a2._2)). //sum AMOUNT on fist value, and count summed AMOUNTs on the second, end it aggregate partitions\n",
       "    map({case(k,v)=>(k,v._1/v._2)}). //calculate the average based on EXPENDITURE_TYPE(key)\n",
       "    sortBy(_._2, false). //order by AMOUNT descending \n",
       "    collect().\n",
       "    foreach(result => print(result + \"\\n\"))\n",
       "\n",
       "// In this way is also possible to view which expenditure type is more expensive on average"
      ]
     },
     {
      "cell_type": "code",
      "execution_count": 30,
      "id": "76ffda26-4d6d-407a-b0f6-8d5e9a727049",
      "metadata": {
       "execution": {
        "iopub.execute_input": "2023-02-08T18:08:47.480304Z",
        "iopub.status.busy": "2023-02-08T18:08:47.480072Z",
        "iopub.status.idle": "2023-02-08T18:09:46.915986Z",
        "shell.execute_reply": "2023-02-08T18:09:46.915286Z",
        "shell.execute_reply.started": "2023-02-08T18:08:47.480280Z"
       },
       "tags": []
      },
      "outputs": [
       {
        "data": {
         "application/vnd.jupyter.widget-view+json": {
          "model_id": "052c060583de4f939b7506971d1936ab",
          "version_major": 2,
          "version_minor": 0
         },
         "text/plain": [
          "VBox()"
         ]
        },
        "metadata": {},
        "output_type": "display_data"
       },
       {
        "data": {
         "application/vnd.jupyter.widget-view+json": {
          "model_id": "",
          "version_major": 2,
          "version_minor": 0
         },
         "text/plain": [
          "FloatProgress(value=0.0, bar_style='info', description='Progress:', layout=Layout(height='25px', width='50%'),…"
         ]
        },
        "metadata": {},
        "output_type": "display_data"
       },
       {
        "name": "stdout",
        "output_type": "stream",
        "text": [
         "(Housing,6519.61)\n",
         "(Motor/Travel,6334.35)\n",
         "(Clothing,4319.49)\n",
         "(Education,2787.69)\n",
         "(Savings,1996.85)\n",
         "(Groceries,1952.39)\n",
         "(Health,1816.22)\n",
         "(Bills and Utilities,1489.54)\n",
         "(Tax,1333.29)\n",
         "(Entertainment,1002.84)\n",
         "(Fines,988.5)\n",
         "(Gambling,870.31)\n"
        ]
       }
      ],
      "source": [
       "//What is the maximum amount for each type of expenditure?\n",
       "cachedExpenditureTypeAmount.\n",
       "    reduceByKey((x,y)=>{if(x<y) y else x}). //take the maximum AMOUNT for each EXPENDITURE_TYPE\n",
       "    sortBy(_._2, false). //reorder by AMOUNT descending \n",
       "    collect().\n",
       "    foreach(result => print(result + \"\\n\"))"
      ]
     }
    ],
    "metadata": {
     "kernelspec": {
      "display_name": "Spark",
      "language": "",
      "name": "sparkkernel"
     },
     "language_info": {
      "codemirror_mode": "text/x-scala",
      "mimetype": "text/x-scala",
      "name": "scala",
      "pygments_lexer": "scala"
     }
    },
    "nbformat": 4,
    "nbformat_minor": 5
   }
   