{
 "cells": [
  {
   "attachments": {},
   "cell_type": "markdown",
   "id": "088c1462-0a41-4c35-ade4-903a1f26ee31",
   "metadata": {},
   "source": [
    "# Big Data Project - Simulated Transactions - 21/22\n",
    "\n",
    "<strong>Andrea Rettaroli</strong> - 0000977930"
   ]
  },
  {
   "attachments": {},
   "cell_type": "markdown",
   "id": "ce0b13c6-d63f-4903-aeb0-9f3c5b5cd675",
   "metadata": {},
   "source": [
    "### Simulated Transactions - Dataset Analysis\n",
    "\n",
    "The goal of this notebook is to analyze and extract some useful informations from [kaggle simulated-transactions dataset](https://www.kaggle.com/datasets/conorsully1/simulated-transactions). \n",
    "\n",
    "The dataset contains ~22GB of data that represents random transactions.\n",
    "[Notebook used to generate data](https://github.com/conorosully/medium-articles/blob/master/src/transaction_data_generator.ipynb).\n",
    "\n",
    "Transactions are generated for 75,000 customers and are classified into 12 expenditure types:\n",
    "\n",
    "- Groceries\n",
    "- Clothing\n",
    "- Housing\n",
    "- Education\n",
    "- Health\n",
    "- Motor/Travel\n",
    "- Entertainment\n",
    "- Gambling\n",
    "- Savings\n",
    "- Bills and Utilities\n",
    "- Tax\n",
    "- Fines\n",
    "\n",
    "Each transaction is represented by 10 features/columns:\n",
    "\n",
    "- <strong> CUST_ID</strong>: unique ID for every customer\n",
    "- <strong> START_DATE</strong>: the month the customer started making transactions\n",
    "- <strong> END_DATE</strong>: the month the customer stopped making transactions\n",
    "- <strong> TRANS_ID</strong>: unique ID for every transaction\n",
    "- <strong> DATE</strong>: the date of the transaction\n",
    "- <strong> YEAR</strong>: the year of the transaction\n",
    "- <strong> MONTH</strong>: the month of the transaction\n",
    "- <strong> DAY</strong>: the day of the transaction\n",
    "- <strong> EXP_TYPE</strong>: the expenditure type (listed above)\n",
    "- <strong> AMOUNT</strong>: the amount of the transaction (in dollars $)"
   ]
  }
 ],
 "metadata": {
  "kernelspec": {
   "display_name": "Python 3",
   "language": "python",
   "name": "python3"
  },
  "language_info": {
   "codemirror_mode": "text/x-scala",
   "mimetype": "text/x-scala",
   "name": "python",
   "pygments_lexer": "scala",
   "version": "3.6.2 (v3.6.2:5fd33b5, Jul  8 2017, 04:57:36) [MSC v.1900 64 bit (AMD64)]"
  },
  "vscode": {
   "interpreter": {
    "hash": "f4e9cda46bb2d9d7fe6ecdff0f8336a934348bf06cb492f2f42f60739b3403b4"
   }
  }
 },
 "nbformat": 4,
 "nbformat_minor": 5
}
