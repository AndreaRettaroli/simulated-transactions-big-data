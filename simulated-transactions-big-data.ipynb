{
 "cells": [
  {
   "cell_type": "markdown",
   "id": "3cd85554-3439-40ab-8188-dccfa7d38566",
   "metadata": {},
   "source": [
    "# Big Data Project - Simulated Transactions - 21/22\n",
    "\n",
    "<strong>Andrea Rettaroli</strong> - 0000977930\n"
   ]
  },
  {
   "cell_type": "markdown",
   "id": "002ddd43-52e5-4729-ae3b-98e3b45476bd",
   "metadata": {},
   "source": [
    "### Simulated Transactions - Dataset Analysis\n",
    "\n",
    "The goal of this notebook is to analyze and extract some useful informations from [kaggle simulated-transactions dataset](https://www.kaggle.com/datasets/conorsully1/simulated-transactions). \n",
    "\n",
    "The dataset contains ~22GB of data that represents random transactions.\n",
    "[Notebook used to generate data](https://github.com/conorosully/medium-articles/blob/master/src/transaction_data_generator.ipynb).\n",
    "\n",
    "Transactions are generated for 75,000 customers and are classified into 12 expenditure types:\n",
    "\n",
    "- Groceries\n",
    "- Clothing\n",
    "- Housing\n",
    "- Education\n",
    "- Health\n",
    "- Motor/Travel\n",
    "- Entertainment\n",
    "- Gambling\n",
    "- Savings\n",
    "- Bills and Utilities\n",
    "- Tax\n",
    "- Fines\n",
    "\n",
    "Each transaction is represented by 10 features/columns:\n",
    "\n",
    "- <strong> CUST_ID</strong>: unique ID for every customer\n",
    "- <strong> START_DATE</strong>: the month the customer started making transactions\n",
    "- <strong> END_DATE</strong>: the month the customer stopped making transactions\n",
    "- <strong> TRANS_ID</strong>: unique ID for every transaction\n",
    "- <strong> DATE</strong>: the date of the transaction\n",
    "- <strong> YEAR</strong>: the year of the transaction\n",
    "- <strong> MONTH</strong>: the month of the transaction\n",
    "- <strong> DAY</strong>: the day of the transaction\n",
    "- <strong> EXP_TYPE</strong>: the expenditure type (listed above)\n",
    "- <strong> AMOUNT</strong>: the amount of the transaction (in dollars $)"
   ]
  },
  {
   "cell_type": "markdown",
   "id": "7fd5a113-a0c7-4ec8-9d68-aef7adf75424",
   "metadata": {
    "execution": {
     "iopub.execute_input": "2023-02-06T14:41:42.469399Z",
     "iopub.status.busy": "2023-02-06T14:41:42.469174Z"
    },
    "tags": []
   },
   "source": [
    "# Cluster configuration\n",
    "\n",
    "Let's start by eneble to connetct to spark ui and setting the proper cluster configuration as saw in labs. \n",
    "\n",
    "- 3 executors with 3 cores each (leave 1 for daemons; and there's also the AMP (application process manager))\n",
    "- 8G of memory per executor (recommended 11G, but it exceeds YARN's default maximum allowed in this EMR cluster)"
   ]
  },
  {
   "cell_type": "code",
   "execution_count": 3,
   "id": "85950597-8f4d-4983-93e9-970710992aaa",
   "metadata": {
    "execution": {
     "iopub.execute_input": "2023-02-06T16:09:08.190618Z",
     "iopub.status.busy": "2023-02-06T16:09:08.190342Z",
     "iopub.status.idle": "2023-02-06T16:09:22.289751Z",
     "shell.execute_reply": "2023-02-06T16:09:22.289045Z",
     "shell.execute_reply.started": "2023-02-06T16:09:08.190591Z"
    },
    "tags": []
   },
   "outputs": [
    {
     "data": {
      "application/vnd.jupyter.widget-view+json": {
       "model_id": "ac008615d53948bb9b1f7a533d67ad68",
       "version_major": 2,
       "version_minor": 0
      },
      "text/plain": [
       "VBox()"
      ]
     },
     "metadata": {},
     "output_type": "display_data"
    },
    {
     "data": {
      "application/vnd.jupyter.widget-view+json": {
       "model_id": "",
       "version_major": 2,
       "version_minor": 0
      },
      "text/plain": [
       "FloatProgress(value=0.0, bar_style='info', description='Progress:', layout=Layout(height='25px', width='50%'),…"
      ]
     },
     "metadata": {},
     "output_type": "display_data"
    },
    {
     "name": "stdout",
     "output_type": "stream",
     "text": [
      "res0: String = application_1675691492352_0005\n",
      "res2: String = SPARK UI: Enable forwarding of port 20888 and connect to http://localhost:20888/proxy/application_1675691492352_0005/\n"
     ]
    }
   ],
   "source": [
    "sc.applicationId\n",
    "\"SPARK UI: Enable forwarding of port 20888 and connect to http://localhost:20888/proxy/\" + sc.applicationId + \"/\""
   ]
  },
  {
   "cell_type": "code",
   "execution_count": null,
   "id": "9834e0f1-290a-42c8-ae32-7f9208fb8307",
   "metadata": {},
   "outputs": [
    {
     "name": "stdout",
     "output_type": "stream",
     "text": [
      "Starting Spark application\n"
     ]
    },
    {
     "data": {
      "text/html": [
       "<table>\n",
       "<tr><th>ID</th><th>YARN Application ID</th><th>Kind</th><th>State</th><th>Spark UI</th><th>Driver log</th><th>Current session?</th></tr><tr><td>3</td><td>application_1675691492352_0006</td><td>spark</td><td>idle</td><td><a target=\"_blank\" href=\"http://ip-172-31-25-187.ec2.internal:20888/proxy/application_1675691492352_0006/\" class=\"emr-proxy-link\" emr-resource=\"j-5NTY6ZDIMDX3\n",
       "\" application-id=\"application_1675691492352_0006\">Link</a></td><td><a target=\"_blank\" href=\"http://ip-172-31-16-252.ec2.internal:8042/node/containerlogs/container_1675691492352_0006_01_000001/livy\" >Link</a></td><td>✔</td></tr></table>"
      ],
      "text/plain": [
       "<IPython.core.display.HTML object>"
      ]
     },
     "metadata": {},
     "output_type": "display_data"
    },
    {
     "data": {
      "application/vnd.jupyter.widget-view+json": {
       "model_id": "",
       "version_major": 2,
       "version_minor": 0
      },
      "text/plain": [
       "FloatProgress(value=0.0, bar_style='info', description='Progress:', layout=Layout(height='25px', width='50%'),…"
      ]
     },
     "metadata": {},
     "output_type": "display_data"
    },
    {
     "name": "stdout",
     "output_type": "stream",
     "text": [
      "SparkSession available as 'spark'.\n"
     ]
    },
    {
     "data": {
      "text/html": [
       "Current session configs: <tt>{'executorMemory': '8G', 'numExecutors': 3, 'executorCores': 3, 'conf': {'spark.dynamicAllocation.enabled': 'false'}, 'proxyUser': 'assumed-role_voclabs_user2321830_Andrea_Rettaroli', 'kind': 'spark'}</tt><br>"
      ],
      "text/plain": [
       "<IPython.core.display.HTML object>"
      ]
     },
     "metadata": {},
     "output_type": "display_data"
    },
    {
     "data": {
      "text/html": [
       "<table>\n",
       "<tr><th>ID</th><th>YARN Application ID</th><th>Kind</th><th>State</th><th>Spark UI</th><th>Driver log</th><th>Current session?</th></tr><tr><td>3</td><td>application_1675691492352_0006</td><td>spark</td><td>idle</td><td><a target=\"_blank\" href=\"http://ip-172-31-25-187.ec2.internal:20888/proxy/application_1675691492352_0006/\" class=\"emr-proxy-link\" emr-resource=\"j-5NTY6ZDIMDX3\n",
       "\" application-id=\"application_1675691492352_0006\">Link</a></td><td><a target=\"_blank\" href=\"http://ip-172-31-16-252.ec2.internal:8042/node/containerlogs/container_1675691492352_0006_01_000001/livy\" >Link</a></td><td>✔</td></tr></table>"
      ],
      "text/plain": [
       "<IPython.core.display.HTML object>"
      ]
     },
     "metadata": {},
     "output_type": "display_data"
    }
   ],
   "source": [
    "%%configure -f\n",
    "{\"executorMemory\":\"8G\", \"numExecutors\":3, \"executorCores\":3, \"conf\": {\"spark.dynamicAllocation.enabled\": \"false\"}}"
   ]
  },
  {
   "cell_type": "markdown",
   "id": "bcb9ea9a-eac7-45c6-8226-1a9500bb12a8",
   "metadata": {},
   "source": [
    "# Dataset Preprocessing \n",
    "\n",
    "After an analysis of the dataset I decided to:\n",
    "- Removing the **DATE** column because it is the aggregation of the colums year, month and day that are more useful for the jobs that i'll do.\n",
    "- creating some smaller datasets to test the correctness of the functions.\n",
    "\n",
    "This section ne to be executed only the first time."
   ]
  },
  {
   "cell_type": "code",
   "execution_count": null,
   "id": "996aae33-7cd0-474d-90b6-3ae049e56a43",
   "metadata": {},
   "outputs": [],
   "source": [
    "// Name of bucket in s3\n",
    "val bucketname = \"unibo-bd2122-arettaroli\"\n",
    "// Paths of datasets\n",
    "// S3 path of simulated transactions dataset\n",
    "val s3_path_dataset = \"s3a://\"+bucketname+\"/exam-dataset/transactions.csv\"\n",
    "// S3 path of cleaned dataset without column \"date\"\n",
    "val s3_path_dataset_cleaned = \"s3a://\"+bucketname+\"/exam-dataset/transactions-cleaned.csv\""
   ]
  },
  {
   "cell_type": "code",
   "execution_count": null,
   "id": "33b873dc-b160-4d45-bdf5-a170e37273a6",
   "metadata": {},
   "outputs": [],
   "source": [
    "// Read data from the simulated transactions dataset, drops the column DATE (_c4) then save to another csv.\n",
    "spark.\n",
    "  read.\n",
    "  csv(s3_path_dataset).\n",
    "  drop(\"_c4\").\n",
    "  write.\n",
    "  csv(s3_path_dataset_cleaned)"
   ]
  },
  {
   "cell_type": "code",
   "execution_count": null,
   "id": "515070fa-38fb-4cb8-a120-7448beccbbc4",
   "metadata": {},
   "outputs": [],
   "source": []
  },
  {
   "cell_type": "code",
   "execution_count": null,
   "id": "96d1ffc9-0ba8-46fd-8710-baea9f4a7893",
   "metadata": {},
   "outputs": [],
   "source": []
  }
 ],
 "metadata": {
  "kernelspec": {
   "display_name": "Spark",
   "language": "",
   "name": "sparkkernel"
  },
  "language_info": {
   "codemirror_mode": "text/x-scala",
   "mimetype": "text/x-scala",
   "name": "scala",
   "pygments_lexer": "scala"
  },
  "vscode": {
   "interpreter": {
    "hash": "f4e9cda46bb2d9d7fe6ecdff0f8336a934348bf06cb492f2f42f60739b3403b4"
   }
  }
 },
 "nbformat": 4,
 "nbformat_minor": 5
}
