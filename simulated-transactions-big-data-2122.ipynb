{
 "cells": [
  {
   "cell_type": "markdown",
   "id": "ada87774-3c22-4838-90a4-b25146c88afe",
   "metadata": {},
   "source": [
    "# Big Data Project - Simulated Transactions - 21/22\n",
    "\n",
    "<strong>Andrea Rettaroli</strong> - 0000977930\n"
   ]
  },
  {
   "cell_type": "markdown",
   "id": "12276141-6979-4a95-854f-8ba4410bc000",
   "metadata": {},
   "source": [
    "### Simulated Transactions - Dataset Analysis\n",
    "\n",
    "The goal of this notebook is to analyze and extract some useful informations from [kaggle simulated-transactions dataset](https://www.kaggle.com/datasets/conorsully1/simulated-transactions). \n",
    "\n",
    "The dataset contains ~22GB of data that represents random transactions.\n",
    "[Notebook used to generate data](https://github.com/conorosully/medium-articles/blob/master/src/transaction_data_generator.ipynb).\n",
    "\n",
    "Transactions are generated for 75,000 customers and are classified into 12 expenditure types:\n",
    "\n",
    "- Groceries\n",
    "- Clothing\n",
    "- Housing\n",
    "- Education\n",
    "- Health\n",
    "- Motor/Travel\n",
    "- Entertainment\n",
    "- Gambling\n",
    "- Savings\n",
    "- Bills and Utilities\n",
    "- Tax\n",
    "- Fines\n",
    "\n",
    "Each transaction is represented by 10 features/columns:\n",
    "\n",
    "- <strong> CUST_ID</strong>: unique ID for every customer\n",
    "- <strong> START_DATE</strong>: the month the customer started making transactions\n",
    "- <strong> END_DATE</strong>: the month the customer stopped making transactions\n",
    "- <strong> TRANS_ID</strong>: unique ID for every transaction\n",
    "- <strong> DATE</strong>: the date of the transaction\n",
    "- <strong> YEAR</strong>: the year of the transaction\n",
    "- <strong> MONTH</strong>: the month of the transaction\n",
    "- <strong> DAY</strong>: the day of the transaction\n",
    "- <strong> EXP_TYPE</strong>: the expenditure type (listed above)\n",
    "- <strong> AMOUNT</strong>: the amount of the transaction in dollars $"
   ]
  },
  {
   "cell_type": "markdown",
   "id": "e9fbe226-b717-4b20-b34f-8194b1b67f7e",
   "metadata": {},
   "source": [
    "# Cluster configuration\n",
    "\n",
    "Let's start by eneble to connetct to spark ui and setting the proper cluster configuration as saw in labs. \n",
    "\n",
    "- 3 executors with 3 cores each (leave 1 for daemons; and there's also the AMP)\n",
    "- 8G of memory per executor (recommended 11G, but it exceeds YARN's default maximum allowed in this EMR cluster)\n"
   ]
  },
  {
   "cell_type": "code",
   "execution_count": 1,
   "id": "d49f4958-fc5d-4e95-a53a-abe172c874b0",
   "metadata": {
    "execution": {
     "iopub.execute_input": "2023-02-12T16:15:51.017319Z",
     "iopub.status.busy": "2023-02-12T16:15:51.017002Z",
     "iopub.status.idle": "2023-02-12T16:16:35.191042Z",
     "shell.execute_reply": "2023-02-12T16:16:35.190332Z",
     "shell.execute_reply.started": "2023-02-12T16:15:51.017282Z"
    },
    "tags": []
   },
   "outputs": [
    {
     "data": {
      "application/vnd.jupyter.widget-view+json": {
       "model_id": "fc35b0a7dfa640ed9344ccca71b66635",
       "version_major": 2,
       "version_minor": 0
      },
      "text/plain": [
       "VBox()"
      ]
     },
     "metadata": {},
     "output_type": "display_data"
    },
    {
     "name": "stdout",
     "output_type": "stream",
     "text": [
      "Starting Spark application\n"
     ]
    },
    {
     "data": {
      "text/html": [
       "<table>\n",
       "<tr><th>ID</th><th>YARN Application ID</th><th>Kind</th><th>State</th><th>Spark UI</th><th>Driver log</th><th>Current session?</th></tr><tr><td>3</td><td>application_1676214966471_0005</td><td>spark</td><td>idle</td><td><a target=\"_blank\" href=\"http://ip-172-31-27-39.ec2.internal:20888/proxy/application_1676214966471_0005/\" class=\"emr-proxy-link\" emr-resource=\"j-2HGASNR6ECEAK\n",
       "\" application-id=\"application_1676214966471_0005\">Link</a></td><td><a target=\"_blank\" href=\"http://ip-172-31-28-185.ec2.internal:8042/node/containerlogs/container_1676214966471_0005_01_000001/livy\" >Link</a></td><td>✔</td></tr></table>"
      ],
      "text/plain": [
       "<IPython.core.display.HTML object>"
      ]
     },
     "metadata": {},
     "output_type": "display_data"
    },
    {
     "data": {
      "application/vnd.jupyter.widget-view+json": {
       "model_id": "",
       "version_major": 2,
       "version_minor": 0
      },
      "text/plain": [
       "FloatProgress(value=0.0, bar_style='info', description='Progress:', layout=Layout(height='25px', width='50%'),…"
      ]
     },
     "metadata": {},
     "output_type": "display_data"
    },
    {
     "name": "stdout",
     "output_type": "stream",
     "text": [
      "SparkSession available as 'spark'.\n"
     ]
    },
    {
     "data": {
      "application/vnd.jupyter.widget-view+json": {
       "model_id": "",
       "version_major": 2,
       "version_minor": 0
      },
      "text/plain": [
       "FloatProgress(value=0.0, bar_style='info', description='Progress:', layout=Layout(height='25px', width='50%'),…"
      ]
     },
     "metadata": {},
     "output_type": "display_data"
    },
    {
     "name": "stdout",
     "output_type": "stream",
     "text": [
      "res1: String = application_1676214966471_0005\n",
      "res2: String = SPARK UI: Enable forwarding of port 20888 and connect to http://localhost:20888/proxy/application_1676214966471_0005/\n"
     ]
    }
   ],
   "source": [
    "sc.applicationId\n",
    "\"SPARK UI: Enable forwarding of port 20888 and connect to http://localhost:20888/proxy/\" + sc.applicationId + \"/\""
   ]
  },
  {
   "cell_type": "code",
   "execution_count": 2,
   "id": "2cbac496-5710-4836-b0d5-19255ce33472",
   "metadata": {
    "execution": {
     "iopub.execute_input": "2023-02-12T16:17:18.612660Z",
     "iopub.status.busy": "2023-02-12T16:17:18.612375Z",
     "iopub.status.idle": "2023-02-12T16:18:03.116894Z",
     "shell.execute_reply": "2023-02-12T16:18:03.116186Z",
     "shell.execute_reply.started": "2023-02-12T16:17:18.612630Z"
    },
    "tags": []
   },
   "outputs": [
    {
     "name": "stdout",
     "output_type": "stream",
     "text": [
      "Starting Spark application\n"
     ]
    },
    {
     "data": {
      "text/html": [
       "<table>\n",
       "<tr><th>ID</th><th>YARN Application ID</th><th>Kind</th><th>State</th><th>Spark UI</th><th>Driver log</th><th>Current session?</th></tr><tr><td>4</td><td>application_1676214966471_0006</td><td>spark</td><td>idle</td><td><a target=\"_blank\" href=\"http://ip-172-31-27-39.ec2.internal:20888/proxy/application_1676214966471_0006/\" class=\"emr-proxy-link\" emr-resource=\"j-2HGASNR6ECEAK\n",
       "\" application-id=\"application_1676214966471_0006\">Link</a></td><td><a target=\"_blank\" href=\"http://ip-172-31-28-185.ec2.internal:8042/node/containerlogs/container_1676214966471_0006_01_000001/livy\" >Link</a></td><td>✔</td></tr></table>"
      ],
      "text/plain": [
       "<IPython.core.display.HTML object>"
      ]
     },
     "metadata": {},
     "output_type": "display_data"
    },
    {
     "data": {
      "application/vnd.jupyter.widget-view+json": {
       "model_id": "",
       "version_major": 2,
       "version_minor": 0
      },
      "text/plain": [
       "FloatProgress(value=0.0, bar_style='info', description='Progress:', layout=Layout(height='25px', width='50%'),…"
      ]
     },
     "metadata": {},
     "output_type": "display_data"
    },
    {
     "name": "stdout",
     "output_type": "stream",
     "text": [
      "SparkSession available as 'spark'.\n"
     ]
    },
    {
     "data": {
      "text/html": [
       "Current session configs: <tt>{'executorMemory': '8G', 'numExecutors': 3, 'executorCores': 3, 'conf': {'spark.dynamicAllocation.enabled': 'false'}, 'proxyUser': 'assumed-role_voclabs_user2321830_Andrea_Rettaroli', 'kind': 'spark'}</tt><br>"
      ],
      "text/plain": [
       "<IPython.core.display.HTML object>"
      ]
     },
     "metadata": {},
     "output_type": "display_data"
    },
    {
     "data": {
      "text/html": [
       "<table>\n",
       "<tr><th>ID</th><th>YARN Application ID</th><th>Kind</th><th>State</th><th>Spark UI</th><th>Driver log</th><th>Current session?</th></tr><tr><td>4</td><td>application_1676214966471_0006</td><td>spark</td><td>idle</td><td><a target=\"_blank\" href=\"http://ip-172-31-27-39.ec2.internal:20888/proxy/application_1676214966471_0006/\" class=\"emr-proxy-link\" emr-resource=\"j-2HGASNR6ECEAK\n",
       "\" application-id=\"application_1676214966471_0006\">Link</a></td><td><a target=\"_blank\" href=\"http://ip-172-31-28-185.ec2.internal:8042/node/containerlogs/container_1676214966471_0006_01_000001/livy\" >Link</a></td><td>✔</td></tr></table>"
      ],
      "text/plain": [
       "<IPython.core.display.HTML object>"
      ]
     },
     "metadata": {},
     "output_type": "display_data"
    }
   ],
   "source": [
    "%%configure -f\n",
    "{\"executorMemory\":\"8G\", \"numExecutors\":3, \"executorCores\":3, \"conf\": {\"spark.dynamicAllocation.enabled\": \"false\"}}"
   ]
  },
  {
   "cell_type": "markdown",
   "id": "8d1826d0-9b97-41ca-bf8c-078553fcc27a",
   "metadata": {},
   "source": [
    "# Dataset Preprocessing \n",
    "\n",
    "After an analysis of the dataset I decided to:\n",
    "- Removing the **DATE** column because it is the aggregation of the colums year, month and day that are more useful for the next jobs.\n",
    "- creating some smaller datasets to test the correctness of the functions.\n"
   ]
  },
  {
   "cell_type": "code",
   "execution_count": 3,
   "id": "42d1b825-3d85-457a-9232-b57b8eb7bacd",
   "metadata": {
    "execution": {
     "iopub.execute_input": "2023-02-12T16:18:54.626908Z",
     "iopub.status.busy": "2023-02-12T16:18:54.626601Z",
     "iopub.status.idle": "2023-02-12T16:18:58.485911Z",
     "shell.execute_reply": "2023-02-12T16:18:58.485210Z",
     "shell.execute_reply.started": "2023-02-12T16:18:54.626874Z"
    },
    "tags": []
   },
   "outputs": [
    {
     "data": {
      "application/vnd.jupyter.widget-view+json": {
       "model_id": "446f5043f7b34ed0ab375aa3515bd20c",
       "version_major": 2,
       "version_minor": 0
      },
      "text/plain": [
       "VBox()"
      ]
     },
     "metadata": {},
     "output_type": "display_data"
    },
    {
     "data": {
      "application/vnd.jupyter.widget-view+json": {
       "model_id": "",
       "version_major": 2,
       "version_minor": 0
      },
      "text/plain": [
       "FloatProgress(value=0.0, bar_style='info', description='Progress:', layout=Layout(height='25px', width='50%'),…"
      ]
     },
     "metadata": {},
     "output_type": "display_data"
    },
    {
     "name": "stdout",
     "output_type": "stream",
     "text": [
      "bucketname: String = unibo-bd2122-arettaroli\n",
      "s3_path_dataset: String = s3a://unibo-bd2122-arettaroli/exam-dataset/transactions.csv\n",
      "s3_path_dataset_cleaned: String = s3a://unibo-bd2122-arettaroli/exam-dataset/transactions-cleaned.csv\n",
      "s3_path_dataset_small: String = s3a://unibo-bd2122-arettaroli/exam-dataset/transactions-small.csv\n",
      "s3_path_dataset_smallest: String = s3a://unibo-bd2122-arettaroli/exam-dataset/transactions-smallest.csv\n"
     ]
    }
   ],
   "source": [
    "// Name of bucket in s3\n",
    "val bucketname = \"unibo-bd2122-arettaroli\"\n",
    "// Paths of datasets\n",
    "// S3 path of simulated transactions dataset\n",
    "val s3_path_dataset = \"s3a://\"+bucketname+\"/exam-dataset/transactions.csv\"\n",
    "// S3 path of cleaned dataset without column \"date\"\n",
    "val s3_path_dataset_cleaned = \"s3a://\"+bucketname+\"/exam-dataset/transactions-cleaned.csv\"\n",
    "// S3 path of dataset without column \"date\" with 30% of data for optimization\n",
    "val s3_path_dataset_small = \"s3a://\"+bucketname+\"/exam-dataset/transactions-small.csv\"\n",
    "// S3 path of dataset without column \"date\" with 15 rows (to test the correct functioning of the jobs)\n",
    "val s3_path_dataset_smallest = \"s3a://\"+bucketname+\"/exam-dataset/transactions-smallest.csv\""
   ]
  },
  {
   "cell_type": "markdown",
   "id": "96aecdf3-2a75-4915-bafa-774797ad0cef",
   "metadata": {},
   "source": [
    "**ALERT:** The next three cells need to be executed only the first time."
   ]
  },
  {
   "cell_type": "code",
   "execution_count": null,
   "id": "4a5f6782-365d-4a9e-9440-4c5b8df327ce",
   "metadata": {},
   "outputs": [],
   "source": [
    "// Read data from the simulated transactions dataset, drops the column DATE (_c4) then save to another csv.\n",
    "spark.\n",
    "  read.\n",
    "  csv(s3_path_dataset).\n",
    "  drop(\"_c4\").\n",
    "  write.\n",
    "  csv(s3_path_dataset_cleaned)"
   ]
  },
  {
   "cell_type": "code",
   "execution_count": null,
   "id": "c27a8dba-aabb-4aaa-b51c-3f5eab881573",
   "metadata": {},
   "outputs": [],
   "source": [
    "// Read data from csv, limit the number of rows considering the 30% of data for optimization\n",
    "// Number of transactions: 261969719 => 30% of transactions is : 78.590.915,7 => 78500000 \n",
    "spark.\n",
    "  read.\n",
    "  csv(s3_path_dataset_cleaned).\n",
    "  limit(78500000). \n",
    "  write.\n",
    "  csv(s3_path_dataset_small)"
   ]
  },
  {
   "cell_type": "code",
   "execution_count": null,
   "id": "40d01a55-0047-4a4e-90c2-a17c52ba1ac2",
   "metadata": {},
   "outputs": [],
   "source": [
    "// Save a small set of data for check the results of following jobs\n",
    "spark.\n",
    "  read.\n",
    "  csv(s3_path_dataset_cleaned).\n",
    "  limit(10).\n",
    "  write.\n",
    "  csv(s3_path_dataset_smallest)"
   ]
  },
  {
   "cell_type": "markdown",
   "id": "4b5a0f96-bf6b-4861-abaa-f150503cde27",
   "metadata": {},
   "source": [
    "# Dataset preparation\n",
    "\n",
    "\n",
    "In order to read each transaction is useful to define an object **TransactionsParser** to parse the transactions from the csv file. \n",
    "\n",
    "Each value in the csv is divided by ',' (comma) so for each line it's possible to retrieve values splitting on comma.\n"
   ]
  },
  {
   "cell_type": "code",
   "execution_count": 4,
   "id": "3ddba067-431d-415e-94de-9e1ce0868f6a",
   "metadata": {
    "execution": {
     "iopub.execute_input": "2023-02-12T16:19:14.950646Z",
     "iopub.status.busy": "2023-02-12T16:19:14.950362Z",
     "iopub.status.idle": "2023-02-12T16:19:17.285715Z",
     "shell.execute_reply": "2023-02-12T16:19:17.281688Z",
     "shell.execute_reply.started": "2023-02-12T16:19:14.950612Z"
    },
    "tags": []
   },
   "outputs": [
    {
     "data": {
      "application/vnd.jupyter.widget-view+json": {
       "model_id": "062c3fc7f4c54d85a21659f684dfbc30",
       "version_major": 2,
       "version_minor": 0
      },
      "text/plain": [
       "VBox()"
      ]
     },
     "metadata": {},
     "output_type": "display_data"
    },
    {
     "data": {
      "application/vnd.jupyter.widget-view+json": {
       "model_id": "",
       "version_major": 2,
       "version_minor": 0
      },
      "text/plain": [
       "FloatProgress(value=0.0, bar_style='info', description='Progress:', layout=Layout(height='25px', width='50%'),…"
      ]
     },
     "metadata": {},
     "output_type": "display_data"
    },
    {
     "name": "stdout",
     "output_type": "stream",
     "text": [
      "import java.util.Calendar\n",
      "import org.apache.spark.sql.SaveMode\n",
      "import org.apache.spark.HashPartitioner\n",
      "defined object TransactionsParser\n"
     ]
    }
   ],
   "source": [
    "import java.util.Calendar\n",
    "import org.apache.spark.sql.SaveMode\n",
    "import org.apache.spark.HashPartitioner\n",
    "\n",
    "object TransactionsParser {\n",
    "  // Each value in the csv is divided by ','\n",
    "  val commaRegex = \",(?=(?:[^\\\"]*\\\"[^\\\"]*\\\")*[^\\\"]*$)\"\n",
    "    \n",
    "  type CustomerId = String\n",
    "  type StartDate = String\n",
    "  type EndDate = String\n",
    "  type TransactionId = String \n",
    "  // type TransactionDate = String\n",
    "  type Year = Int\n",
    "  type Month = Int\n",
    "  type Day = Int\n",
    "  type ExpenditureType = String\n",
    "  type Amount = Double\n",
    "  \n",
    "  def parseTransactionLine(line: String): Option[(CustomerId, StartDate, EndDate, TransactionId, Year, Month, Day, ExpenditureType, Amount)] = {\n",
    "    try {\n",
    "      val input = line.split(commaRegex) // Splitting on comma\n",
    "      if (input(0) == \"CUST_ID\") { // To discard the headers column line\n",
    "          None\n",
    "      }\n",
    "      Some(input(0).trim, input(1).trim, input(2).trim, input(3).trim, \n",
    "           input(4).trim.toInt, input(5).trim.toInt, input(6).trim.toInt, input(7).trim, input(8).trim.toDouble)\n",
    "      \n",
    "    } catch {\n",
    "      case _: Exception => None\n",
    "    }\n",
    "  }\n",
    "}"
   ]
  },
  {
   "cell_type": "markdown",
   "id": "53f69e42-aea8-43c3-afa8-dc04dcec2aa6",
   "metadata": {},
   "source": [
    "#### Analysis and considerations on enforcement\n",
    "\n",
    "Using SparkUI is possible to see that the dataset size without date column  is  around 18 GB. \n",
    "The strategy decided to save the data is: serialize them in memory and disk, in this way when the memory is full, the disk is used.\n",
    "\n",
    "By default Spark creates 665 partitions for this dataset which is a lot because each task should take at least 100-200ms. This mean that it is better to partition less with the same total execution time."
   ]
  },
  {
   "cell_type": "code",
   "execution_count": 5,
   "id": "f8e65af4-f4fb-4aa4-a078-ca5d187b2ecd",
   "metadata": {
    "execution": {
     "iopub.execute_input": "2023-02-12T16:20:57.110230Z",
     "iopub.status.busy": "2023-02-12T16:20:57.109931Z",
     "iopub.status.idle": "2023-02-12T16:21:02.464577Z",
     "shell.execute_reply": "2023-02-12T16:21:02.463904Z",
     "shell.execute_reply.started": "2023-02-12T16:20:57.110197Z"
    },
    "tags": []
   },
   "outputs": [
    {
     "data": {
      "application/vnd.jupyter.widget-view+json": {
       "model_id": "eddcd59a11514a2f836087aef50cedef",
       "version_major": 2,
       "version_minor": 0
      },
      "text/plain": [
       "VBox()"
      ]
     },
     "metadata": {},
     "output_type": "display_data"
    },
    {
     "data": {
      "application/vnd.jupyter.widget-view+json": {
       "model_id": "",
       "version_major": 2,
       "version_minor": 0
      },
      "text/plain": [
       "FloatProgress(value=0.0, bar_style='info', description='Progress:', layout=Layout(height='25px', width='50%'),…"
      ]
     },
     "metadata": {},
     "output_type": "display_data"
    },
    {
     "name": "stdout",
     "output_type": "stream",
     "text": [
      "import org.apache.spark.storage.StorageLevel._\n",
      "rddTransactions: org.apache.spark.rdd.RDD[(TransactionsParser.CustomerId, TransactionsParser.StartDate, TransactionsParser.EndDate, TransactionsParser.TransactionId, TransactionsParser.Year, TransactionsParser.Month, TransactionsParser.Day, TransactionsParser.ExpenditureType, TransactionsParser.Amount)] = CoalescedRDD[3] at coalesce at <console>:40\n",
      "diskMemoryRdd: rddTransactions.type = CoalescedRDD[3] at coalesce at <console>:40\n",
      "rddTransactions_smallest: org.apache.spark.rdd.RDD[(TransactionsParser.CustomerId, TransactionsParser.StartDate, TransactionsParser.EndDate, TransactionsParser.TransactionId, TransactionsParser.Year, TransactionsParser.Month, TransactionsParser.Day, TransactionsParser.ExpenditureType, TransactionsParser.Amount)] = MapPartitionsRDD[6] at flatMap at <console>:37\n",
      "diskMemoryRdd_smallest: rddTransactions_smallest.type = MapPartitionsRDD[6] at flatMap at <console>:37\n"
     ]
    }
   ],
   "source": [
    "import org.apache.spark.storage.StorageLevel._\n",
    "\n",
    "// Each row is flatMapped with parseTransactionLine method\n",
    "\n",
    "//val rddTransactionsOriginal = sc.textFile(s3_path_dataset).flatMap(TransactionsParser.parseTransactionLine)\n",
    "//val rddTransactions = sc.textFile(s3_path_dataset_small).flatMap(TransactionsParser.parseTransactionLine).coalesce(90)\n",
    "val rddTransactions = sc.textFile(s3_path_dataset_cleaned).flatMap(TransactionsParser.parseTransactionLine).coalesce(300)\n",
    "// Persist on memory and disk with serialization\n",
    "val diskMemoryRdd = rddTransactions.persist(MEMORY_AND_DISK_SER) \n",
    "\n",
    "// Same for the smallest (10 rows)\n",
    "val rddTransactions_smallest = sc.textFile(s3_path_dataset_smallest).flatMap(TransactionsParser.parseTransactionLine)\n",
    "// Persist on memory and disk with serialization\n",
    "val diskMemoryRdd_smallest = rddTransactions_smallest.persist(MEMORY_AND_DISK_SER) "
   ]
  },
  {
   "cell_type": "code",
   "execution_count": 8,
   "id": "33a42624-0dc0-422f-946f-48928390738a",
   "metadata": {
    "execution": {
     "iopub.execute_input": "2023-02-11T17:26:46.005996Z",
     "iopub.status.busy": "2023-02-11T17:26:46.005684Z",
     "iopub.status.idle": "2023-02-11T17:26:51.368639Z",
     "shell.execute_reply": "2023-02-11T17:26:51.367945Z",
     "shell.execute_reply.started": "2023-02-11T17:26:46.005959Z"
    },
    "tags": []
   },
   "outputs": [
    {
     "data": {
      "application/vnd.jupyter.widget-view+json": {
       "model_id": "aedfdca4cb92436390613b9af21ad800",
       "version_major": 2,
       "version_minor": 0
      },
      "text/plain": [
       "VBox()"
      ]
     },
     "metadata": {},
     "output_type": "display_data"
    },
    {
     "data": {
      "application/vnd.jupyter.widget-view+json": {
       "model_id": "",
       "version_major": 2,
       "version_minor": 0
      },
      "text/plain": [
       "FloatProgress(value=0.0, bar_style='info', description='Progress:', layout=Layout(height='25px', width='50%'),…"
      ]
     },
     "metadata": {},
     "output_type": "display_data"
    },
    {
     "name": "stdout",
     "output_type": "stream",
     "text": [
      "(CPVZ2MIAO3,2010-07-01,2017-01-01,T18P9KZ3O350W73,2012,4,5,Entertainment,21.48)\n",
      "(CPVZ2MIAO3,2010-07-01,2017-01-01,T2N065QH3L11AZS,2015,5,24,Entertainment,17.25)\n",
      "(CPVZ2MIAO3,2010-07-01,2017-01-01,TRNQXHP2B5T069M,2014,3,5,Education,412.9)\n",
      "(CPVZ2MIAO3,2010-07-01,2017-01-01,T9PQMGLRKOAI2SJ,2012,9,13,Entertainment,19.18)\n",
      "(CPVZ2MIAO3,2010-07-01,2017-01-01,TS5UMAAB2WWPNXW,2016,5,13,Entertainment,18.66)\n",
      "(CPVZ2MIAO3,2010-07-01,2017-01-01,T48ZCBVO5UW71NC,2013,12,9,Groceries,63.61)\n",
      "(CPVZ2MIAO3,2010-07-01,2017-01-01,T8K9FUYYV2OY9WB,2015,12,4,Entertainment,45.66)\n",
      "(CPVZ2MIAO3,2010-07-01,2017-01-01,T2Y5VJ9D579QGTB,2012,8,5,Entertainment,49.35)\n",
      "(CPVZ2MIAO3,2010-07-01,2017-01-01,T13QP1402CVF9PW,2012,9,22,Groceries,56.19)\n",
      "(CPVZ2MIAO3,2010-07-01,2017-01-01,TY7N8BTA0ASGXO9,2011,7,18,Groceries,64.94)\n"
     ]
    }
   ],
   "source": [
    "//data preview\n",
    "diskMemoryRdd_smallest.\n",
    "    collect().\n",
    "    foreach(transaction => print(transaction + \"\\n\"))"
   ]
  },
  {
   "cell_type": "markdown",
   "id": "53bbbaf0-d576-4838-84f4-095a7fcbd01d",
   "metadata": {},
   "source": [
    "**DEBUG: use to see RDDs partitions status**: the cell below show the RDDs partiotions status."
   ]
  },
  {
   "cell_type": "code",
   "execution_count": null,
   "id": "17edbd6b-ed6f-43b0-8fef-499c00bcb50c",
   "metadata": {},
   "outputs": [],
   "source": [
    "sc.getRDDStorageInfo.foreach(x=> print(x + \"\\n\")) "
   ]
  },
  {
   "cell_type": "markdown",
   "id": "0206f81c-18fa-4ee6-9c67-cb1232082757",
   "metadata": {},
   "source": [
    "**Use only to clean RDDs in memory**: the cell below clean the RDDs in memory."
   ]
  },
  {
   "cell_type": "code",
   "execution_count": null,
   "id": "0397285c-6cd9-459e-b5f4-2f87a94ead48",
   "metadata": {},
   "outputs": [],
   "source": [
    "sc.getPersistentRDDs.foreach(_._2.unpersist())"
   ]
  },
  {
   "cell_type": "markdown",
   "id": "26d1f654-32ac-44fa-8a9f-92ce4fb10b14",
   "metadata": {
    "execution": {
     "iopub.execute_input": "2023-02-11T17:08:53.059878Z",
     "iopub.status.busy": "2023-02-11T17:08:53.059634Z",
     "iopub.status.idle": "2023-02-11T17:08:53.873185Z",
     "shell.execute_reply": "2023-02-11T17:08:53.872452Z",
     "shell.execute_reply.started": "2023-02-11T17:08:53.059851Z"
    },
    "tags": []
   },
   "source": [
    "# Dataset exploration\n",
    "\n",
    "In this section various exploration queries are performed on the dataset but also more complex jobs to find useful information from data.\n",
    "\n",
    "To improve drastically the performances data used in different jobs will be cached in memory and disk."
   ]
  },
  {
   "cell_type": "code",
   "execution_count": 8,
   "id": "4294bc33-855f-48a8-baa3-84fcdc2b058d",
   "metadata": {
    "execution": {
     "iopub.execute_input": "2023-02-12T15:32:05.037707Z",
     "iopub.status.busy": "2023-02-12T15:32:05.037482Z",
     "iopub.status.idle": "2023-02-12T15:32:06.352936Z",
     "shell.execute_reply": "2023-02-12T15:32:06.352083Z",
     "shell.execute_reply.started": "2023-02-12T15:32:05.037683Z"
    },
    "tags": []
   },
   "outputs": [
    {
     "data": {
      "application/vnd.jupyter.widget-view+json": {
       "model_id": "98dc0562d4b2448e81afc6cd9655701d",
       "version_major": 2,
       "version_minor": 0
      },
      "text/plain": [
       "VBox()"
      ]
     },
     "metadata": {},
     "output_type": "display_data"
    },
    {
     "data": {
      "application/vnd.jupyter.widget-view+json": {
       "model_id": "",
       "version_major": 2,
       "version_minor": 0
      },
      "text/plain": [
       "FloatProgress(value=0.0, bar_style='info', description='Progress:', layout=Layout(height='25px', width='50%'),…"
      ]
     },
     "metadata": {},
     "output_type": "display_data"
    },
    {
     "name": "stdout",
     "output_type": "stream",
     "text": [
      "cachedCustomer: org.apache.spark.rdd.RDD[TransactionsParser.CustomerId] = MapPartitionsRDD[7] at map at <console>:32\n",
      "cachedAmount: org.apache.spark.rdd.RDD[TransactionsParser.Amount] = MapPartitionsRDD[8] at map at <console>:31\n",
      "cachedYear: org.apache.spark.rdd.RDD[TransactionsParser.Year] = MapPartitionsRDD[9] at map at <console>:31\n",
      "cachedExpenditureType: org.apache.spark.rdd.RDD[TransactionsParser.ExpenditureType] = MapPartitionsRDD[10] at map at <console>:31\n"
     ]
    }
   ],
   "source": [
    "// Caching of customers, amount, year, expenditure type and amount for following jobs to improve performance\n",
    "val cachedCustomer = rddTransactions.map(x=>x._1).persist(MEMORY_AND_DISK_SER)\n",
    "val cachedAmount = rddTransactions.map(x=>x._9).persist(MEMORY_AND_DISK_SER)\n",
    "val cachedYear = rddTransactions.map(x=>x._5).persist(MEMORY_AND_DISK_SER)\n",
    "val cachedExpenditureType = rddTransactions.map(x=>x._8).persist(MEMORY_AND_DISK_SER)"
   ]
  },
  {
   "cell_type": "markdown",
   "id": "01b74fbb-455a-4329-a12b-c58183c144fc",
   "metadata": {},
   "source": [
    "### Exploring dataset dimentions\n",
    "\n",
    "To know the size of the dataset entities:\n",
    "1. How many transactions? \n",
    "2. How many distinct customers?\n",
    "3. How many distinct expenditure type?\n",
    "4. How many distinct years?\n",
    "5. Min amount and max ammount?\n",
    "6. From what year to what year?"
   ]
  },
  {
   "cell_type": "code",
   "execution_count": 13,
   "id": "41b1ff50-1ee4-4595-a9b8-552f0325ad93",
   "metadata": {
    "execution": {
     "iopub.execute_input": "2023-02-11T17:30:53.151820Z",
     "iopub.status.busy": "2023-02-11T17:30:53.151588Z",
     "iopub.status.idle": "2023-02-11T18:02:26.304200Z",
     "shell.execute_reply": "2023-02-11T18:02:26.303564Z",
     "shell.execute_reply.started": "2023-02-11T17:30:53.151796Z"
    },
    "tags": []
   },
   "outputs": [
    {
     "data": {
      "application/vnd.jupyter.widget-view+json": {
       "model_id": "04e4dc9ac3e1442f9933b1ed484555e2",
       "version_major": 2,
       "version_minor": 0
      },
      "text/plain": [
       "VBox()"
      ]
     },
     "metadata": {},
     "output_type": "display_data"
    },
    {
     "data": {
      "application/vnd.jupyter.widget-view+json": {
       "model_id": "",
       "version_major": 2,
       "version_minor": 0
      },
      "text/plain": [
       "FloatProgress(value=0.0, bar_style='info', description='Progress:', layout=Layout(height='25px', width='50%'),…"
      ]
     },
     "metadata": {},
     "output_type": "display_data"
    },
    {
     "name": "stdout",
     "output_type": "stream",
     "text": [
      "res27: String = 1. Number of transactions: 261969719\n",
      "res28: String = 2. Number of distinct customers: 75000\n",
      "res29: String = 3. Number of distinct expenditure type: 12\n",
      "res30: String = 4. Number of distinct years: 11\n",
      "res31: String = 5. Range of amount: 0.12 $ to 6519.61 $\n",
      "res32: String = 6. From year: 2010 to 2020\n"
     ]
    }
   ],
   "source": [
    "\"1. Number of transactions: \" + diskMemoryRdd.count() // Each row is a transaction => 261.969.719 already without header line\n",
    "\"2. Number of distinct customers: \" + cachedCustomer.distinct().count() // 75000\n",
    "\"3. Number of distinct expenditure type: \" + cachedExpenditureType.distinct().count() // 12 \n",
    "\"4. Number of distinct years: \" + cachedYear.distinct().count() // 11\n",
    "\"5. Range of amount: \" + cachedAmount.min() + \" $ to \" + cachedAmount.max() +\" $\" //0.12 to 6519.61\n",
    "\"6. From year: \" + cachedYear.min() + \" to \" + cachedYear.max() // 2010 to 2020"
   ]
  },
  {
   "cell_type": "markdown",
   "id": "9b58ba3b-f45c-4646-aaf6-a9c8932a6a6b",
   "metadata": {},
   "source": [
    "Learn more about this dataset by answering more complex questions such as:\n",
    "\n",
    "7. which are the years listed in the dataset in ascending order?\n",
    "8. What is the average amount?\n",
    "9. What is the average amount calculate for every year?\n",
    "10. What is the average amount for each type of expenditure?\n",
    "11. What is the maximum amount for each type of expenditure?"
   ]
  },
  {
   "cell_type": "code",
   "execution_count": 14,
   "id": "be8c4f02-1d9e-4cf2-ac98-9dbb3ba63b52",
   "metadata": {
    "execution": {
     "iopub.execute_input": "2023-02-11T18:02:35.608174Z",
     "iopub.status.busy": "2023-02-11T18:02:35.607945Z",
     "iopub.status.idle": "2023-02-11T18:02:46.925282Z",
     "shell.execute_reply": "2023-02-11T18:02:46.924692Z",
     "shell.execute_reply.started": "2023-02-11T18:02:35.608149Z"
    },
    "tags": []
   },
   "outputs": [
    {
     "data": {
      "application/vnd.jupyter.widget-view+json": {
       "model_id": "1c83680c1dbf47e58879eafaddb5fc12",
       "version_major": 2,
       "version_minor": 0
      },
      "text/plain": [
       "VBox()"
      ]
     },
     "metadata": {},
     "output_type": "display_data"
    },
    {
     "data": {
      "application/vnd.jupyter.widget-view+json": {
       "model_id": "",
       "version_major": 2,
       "version_minor": 0
      },
      "text/plain": [
       "FloatProgress(value=0.0, bar_style='info', description='Progress:', layout=Layout(height='25px', width='50%'),…"
      ]
     },
     "metadata": {},
     "output_type": "display_data"
    },
    {
     "name": "stdout",
     "output_type": "stream",
     "text": [
      "2010\n",
      "2011\n",
      "2012\n",
      "2013\n",
      "2014\n",
      "2015\n",
      "2016\n",
      "2017\n",
      "2018\n",
      "2019\n",
      "2020\n"
     ]
    }
   ],
   "source": [
    "//7. which are the years listed in the dataset in ascending order?\n",
    "cachedYear.\n",
    "    distinct().\n",
    "    collect().\n",
    "    sorted.\n",
    "    foreach(year => print(year + \"\\n\"))"
   ]
  },
  {
   "cell_type": "code",
   "execution_count": 15,
   "id": "557870fc-b9b0-48fb-8fd2-ef2cf608cec2",
   "metadata": {
    "execution": {
     "iopub.execute_input": "2023-02-11T18:03:01.381428Z",
     "iopub.status.busy": "2023-02-11T18:03:01.381167Z",
     "iopub.status.idle": "2023-02-11T18:03:08.710630Z",
     "shell.execute_reply": "2023-02-11T18:03:08.709751Z",
     "shell.execute_reply.started": "2023-02-11T18:03:01.381397Z"
    },
    "tags": []
   },
   "outputs": [
    {
     "data": {
      "application/vnd.jupyter.widget-view+json": {
       "model_id": "962c0e39e6a74cafa1dfb8f04ce9b2f5",
       "version_major": 2,
       "version_minor": 0
      },
      "text/plain": [
       "VBox()"
      ]
     },
     "metadata": {},
     "output_type": "display_data"
    },
    {
     "data": {
      "application/vnd.jupyter.widget-view+json": {
       "model_id": "",
       "version_major": 2,
       "version_minor": 0
      },
      "text/plain": [
       "FloatProgress(value=0.0, bar_style='info', description='Progress:', layout=Layout(height='25px', width='50%'),…"
      ]
     },
     "metadata": {},
     "output_type": "display_data"
    },
    {
     "name": "stdout",
     "output_type": "stream",
     "text": [
      "res36: String = Amount on average: 81.56297388367233\n"
     ]
    }
   ],
   "source": [
    "//8. What is the average amount?\n",
    "\"Amount on average: \" + cachedAmount.mean()"
   ]
  },
  {
   "cell_type": "code",
   "execution_count": 16,
   "id": "3c86a260-7d1d-4538-ba0c-74f6d348479e",
   "metadata": {
    "execution": {
     "iopub.execute_input": "2023-02-11T18:03:57.385934Z",
     "iopub.status.busy": "2023-02-11T18:03:57.385648Z",
     "iopub.status.idle": "2023-02-11T18:06:09.073255Z",
     "shell.execute_reply": "2023-02-11T18:06:09.072536Z",
     "shell.execute_reply.started": "2023-02-11T18:03:57.385901Z"
    },
    "tags": []
   },
   "outputs": [
    {
     "data": {
      "application/vnd.jupyter.widget-view+json": {
       "model_id": "f18316b0f89f486e91db7d90c7f83dc1",
       "version_major": 2,
       "version_minor": 0
      },
      "text/plain": [
       "VBox()"
      ]
     },
     "metadata": {},
     "output_type": "display_data"
    },
    {
     "data": {
      "application/vnd.jupyter.widget-view+json": {
       "model_id": "",
       "version_major": 2,
       "version_minor": 0
      },
      "text/plain": [
       "FloatProgress(value=0.0, bar_style='info', description='Progress:', layout=Layout(height='25px', width='50%'),…"
      ]
     },
     "metadata": {},
     "output_type": "display_data"
    },
    {
     "name": "stdout",
     "output_type": "stream",
     "text": [
      "(2010,58.13171661388978)\n",
      "(2011,59.74314431061088)\n",
      "(2012,62.61107660724443)\n",
      "(2013,65.92462474542249)\n",
      "(2014,69.75024925871848)\n",
      "(2015,73.98090515674579)\n",
      "(2016,78.64610882393872)\n",
      "(2017,83.63442584685858)\n",
      "(2018,89.35581974762611)\n",
      "(2019,96.05548560402433)\n",
      "(2020,103.33282605610562)\n"
     ]
    }
   ],
   "source": [
    "//9. What is the average amount calculate for every year?\n",
    "diskMemoryRdd.\n",
    "    map(x => (x._5, x._9)). //take YEAR and AMOUNT\n",
    "    aggregateByKey((0.0,0.0))((a,v)=>(a._1+v,a._2+1),(a1,a2)=>(a1._1+a2._1,a1._2+a2._2)). //sum AMOUNT on fist value, and count summed AMOUNTs on the second, end it aggregate partitions\n",
    "    map({case(k,v)=>(k,v._1/v._2)}). //calculate the average based on YEAR(key)\n",
    "    sortByKey(). //order on YEAR\n",
    "    collect().\n",
    "    foreach(result => print(result + \"\\n\"))"
   ]
  },
  {
   "cell_type": "code",
   "execution_count": 17,
   "id": "6b35db8c-6fc4-498d-8a28-2b551066e20b",
   "metadata": {
    "execution": {
     "iopub.execute_input": "2023-02-11T18:06:41.185752Z",
     "iopub.status.busy": "2023-02-11T18:06:41.185515Z",
     "iopub.status.idle": "2023-02-11T18:06:41.957099Z",
     "shell.execute_reply": "2023-02-11T18:06:41.956331Z",
     "shell.execute_reply.started": "2023-02-11T18:06:41.185724Z"
    },
    "tags": []
   },
   "outputs": [
    {
     "data": {
      "application/vnd.jupyter.widget-view+json": {
       "model_id": "cfc2808ddf0d47948638a8bc34300bf2",
       "version_major": 2,
       "version_minor": 0
      },
      "text/plain": [
       "VBox()"
      ]
     },
     "metadata": {},
     "output_type": "display_data"
    },
    {
     "data": {
      "application/vnd.jupyter.widget-view+json": {
       "model_id": "",
       "version_major": 2,
       "version_minor": 0
      },
      "text/plain": [
       "FloatProgress(value=0.0, bar_style='info', description='Progress:', layout=Layout(height='25px', width='50%'),…"
      ]
     },
     "metadata": {},
     "output_type": "display_data"
    },
    {
     "name": "stdout",
     "output_type": "stream",
     "text": [
      "cachedExpenditureTypeAmount: org.apache.spark.rdd.RDD[(TransactionsParser.ExpenditureType, TransactionsParser.Amount)] = MapPartitionsRDD[39] at map at <console>:32\n"
     ]
    }
   ],
   "source": [
    "// Caching the pair EXPENDITURE_TYPE - AMOUNT for following jobs to improve performance \n",
    "val cachedExpenditureTypeAmount = rddTransactions.map(x => (x._8, x._9)).persist(MEMORY_AND_DISK_SER)"
   ]
  },
  {
   "cell_type": "code",
   "execution_count": 18,
   "id": "e9744202-dc23-4348-b69b-165e685a8812",
   "metadata": {
    "execution": {
     "iopub.execute_input": "2023-02-11T18:06:44.789809Z",
     "iopub.status.busy": "2023-02-11T18:06:44.789578Z",
     "iopub.status.idle": "2023-02-11T18:10:34.741141Z",
     "shell.execute_reply": "2023-02-11T18:10:34.740397Z",
     "shell.execute_reply.started": "2023-02-11T18:06:44.789784Z"
    },
    "tags": []
   },
   "outputs": [
    {
     "data": {
      "application/vnd.jupyter.widget-view+json": {
       "model_id": "287e34ed4da04801953e3ec6beef30cf",
       "version_major": 2,
       "version_minor": 0
      },
      "text/plain": [
       "VBox()"
      ]
     },
     "metadata": {},
     "output_type": "display_data"
    },
    {
     "data": {
      "application/vnd.jupyter.widget-view+json": {
       "model_id": "",
       "version_major": 2,
       "version_minor": 0
      },
      "text/plain": [
       "FloatProgress(value=0.0, bar_style='info', description='Progress:', layout=Layout(height='25px', width='50%'),…"
      ]
     },
     "metadata": {},
     "output_type": "display_data"
    },
    {
     "name": "stdout",
     "output_type": "stream",
     "text": [
      "(Housing,1558.7478390875353)\n",
      "(Tax,412.95141059769145)\n",
      "(Education,281.1921104205164)\n",
      "(Savings,223.37088318474528)\n",
      "(Bills and Utilities,208.28440022266733)\n",
      "(Clothing,179.36878004462213)\n",
      "(Health,159.31446095332151)\n",
      "(Fines,159.2007908590806)\n",
      "(Motor/Travel,133.38064934051437)\n",
      "(Gambling,105.02011185360804)\n",
      "(Groceries,80.30824109361194)\n",
      "(Entertainment,24.031486539717367)\n"
     ]
    }
   ],
   "source": [
    "//10. What is the average amount for each type of expenditure?\n",
    "cachedExpenditureTypeAmount.\n",
    "    aggregateByKey((0.0,0.0))((a,v)=>(a._1+v,a._2+1),(a1,a2)=>(a1._1+a2._1,a1._2+a2._2)). //sum AMOUNT on fist value, and count summed AMOUNTs on the second, end it aggregate partitions\n",
    "    map({case(k,v)=>(k,v._1/v._2)}). //calculate the average based on EXPENDITURE_TYPE(key)\n",
    "    sortBy(_._2, false). //order by AMOUNT descending \n",
    "    collect().\n",
    "    foreach(result => print(result + \"\\n\"))\n",
    "\n",
    "// In this way is also possible to view which expenditure type is more expensive on average"
   ]
  },
  {
   "cell_type": "code",
   "execution_count": 20,
   "id": "c241b7b9-d9c4-4ad6-8973-2bc344f04296",
   "metadata": {
    "execution": {
     "iopub.execute_input": "2023-02-11T18:17:40.999598Z",
     "iopub.status.busy": "2023-02-11T18:17:40.999377Z",
     "iopub.status.idle": "2023-02-11T18:18:30.432889Z",
     "shell.execute_reply": "2023-02-11T18:18:30.432116Z",
     "shell.execute_reply.started": "2023-02-11T18:17:40.999573Z"
    },
    "tags": []
   },
   "outputs": [
    {
     "data": {
      "application/vnd.jupyter.widget-view+json": {
       "model_id": "8bd04bda15ee4c228dc5f6e2f2eed3c0",
       "version_major": 2,
       "version_minor": 0
      },
      "text/plain": [
       "VBox()"
      ]
     },
     "metadata": {},
     "output_type": "display_data"
    },
    {
     "data": {
      "application/vnd.jupyter.widget-view+json": {
       "model_id": "",
       "version_major": 2,
       "version_minor": 0
      },
      "text/plain": [
       "FloatProgress(value=0.0, bar_style='info', description='Progress:', layout=Layout(height='25px', width='50%'),…"
      ]
     },
     "metadata": {},
     "output_type": "display_data"
    },
    {
     "name": "stdout",
     "output_type": "stream",
     "text": [
      "(Housing,6519.61)\n",
      "(Motor/Travel,6334.35)\n",
      "(Clothing,4319.49)\n",
      "(Education,2787.69)\n",
      "(Savings,1996.85)\n",
      "(Groceries,1952.39)\n",
      "(Health,1816.22)\n",
      "(Bills and Utilities,1489.54)\n",
      "(Tax,1333.29)\n",
      "(Entertainment,1002.84)\n",
      "(Fines,988.5)\n",
      "(Gambling,870.31)\n"
     ]
    }
   ],
   "source": [
    "//11. What is the maximum amount for each type of expenditure?\n",
    "cachedExpenditureTypeAmount.\n",
    "    reduceByKey((x,y)=>{if(x<y) y else x}). //take the maximum AMMOUNT for each EXPENDITURE_TYPE\n",
    "    sortBy(_._2, false). //reorder by AMOUNT descending \n",
    "    collect().\n",
    "    foreach(result => print(result + \"\\n\"))"
   ]
  },
  {
   "cell_type": "markdown",
   "id": "aa0c0adb-2f8a-490e-8bcd-aa060864b470",
   "metadata": {},
   "source": [
    "### Analyze transactions\n",
    "\n",
    "Analyze transactions more in deep answering the follow questions:\n",
    "\n",
    "1. What is the average of transactions for customer?\n",
    "2. What is the average of transactions for year?\n",
    "3. What is the average of transactions for expenditure type?\n",
    "4. Which is the year with the most number of transactions?\n",
    "5. Which is the month with the most number of transactions?\n",
    "6. Which is the year-month with the most number of transactions?\n"
   ]
  },
  {
   "cell_type": "code",
   "execution_count": 21,
   "id": "f868aa1c-2347-46fc-b648-fa3b0cd68fb8",
   "metadata": {
    "execution": {
     "iopub.execute_input": "2023-02-11T18:20:48.349498Z",
     "iopub.status.busy": "2023-02-11T18:20:48.349267Z",
     "iopub.status.idle": "2023-02-11T18:20:49.139646Z",
     "shell.execute_reply": "2023-02-11T18:20:49.138911Z",
     "shell.execute_reply.started": "2023-02-11T18:20:48.349473Z"
    },
    "tags": []
   },
   "outputs": [
    {
     "data": {
      "application/vnd.jupyter.widget-view+json": {
       "model_id": "fc3d690a04b24de8ad84e82b3ec1049c",
       "version_major": 2,
       "version_minor": 0
      },
      "text/plain": [
       "VBox()"
      ]
     },
     "metadata": {},
     "output_type": "display_data"
    },
    {
     "data": {
      "application/vnd.jupyter.widget-view+json": {
       "model_id": "",
       "version_major": 2,
       "version_minor": 0
      },
      "text/plain": [
       "FloatProgress(value=0.0, bar_style='info', description='Progress:', layout=Layout(height='25px', width='50%'),…"
      ]
     },
     "metadata": {},
     "output_type": "display_data"
    },
    {
     "name": "stdout",
     "output_type": "stream",
     "text": [
      "cachedCustomerTransactions: org.apache.spark.rdd.RDD[(TransactionsParser.CustomerId, Int)] = ShuffledRDD[60] at reduceByKey at <console>:33\n",
      "cachedYearTransactions: org.apache.spark.rdd.RDD[(TransactionsParser.Year, Int)] = ShuffledRDD[62] at reduceByKey at <console>:32\n",
      "cachedExpenditureTypeTransactions: org.apache.spark.rdd.RDD[(TransactionsParser.ExpenditureType, Int)] = ShuffledRDD[64] at reduceByKey at <console>:32\n"
     ]
    }
   ],
   "source": [
    "// For following jobs to improve performance \n",
    "// Caching the pair CUSTOMER - NUMBER OF TRANSACTIONS \n",
    "val cachedCustomerTransactions = rddTransactions.map(x => (x._1, 1)).reduceByKey(_+_).persist(MEMORY_AND_DISK_SER) //create pair (customer_id, 1) and sum reducing by customer_id\n",
    "// Caching the pair YEAR - NUMBER OF TRANSACTIONS\n",
    "val cachedYearTransactions = rddTransactions.map(x => (x._5, 1)).reduceByKey(_+_).persist(MEMORY_AND_DISK_SER) //create pair (year, 1) and  sum reducing by year\n",
    "// Caching the pair EXPENDITURE TYPE - NUMBER OF TRANSACTIONS\n",
    "val cachedExpenditureTypeTransactions = rddTransactions.map(x => (x._8, 1)).reduceByKey(_+_).persist(MEMORY_AND_DISK_SER) //create pair (expenditure_type, 1) and sum reducing by expenditure_type"
   ]
  },
  {
   "cell_type": "code",
   "execution_count": 22,
   "id": "fb0af6a3-5287-46e3-963f-bd6dc24c78a2",
   "metadata": {
    "execution": {
     "iopub.execute_input": "2023-02-11T18:20:52.266079Z",
     "iopub.status.busy": "2023-02-11T18:20:52.265852Z",
     "iopub.status.idle": "2023-02-11T18:25:34.352936Z",
     "shell.execute_reply": "2023-02-11T18:25:34.352336Z",
     "shell.execute_reply.started": "2023-02-11T18:20:52.266055Z"
    },
    "tags": []
   },
   "outputs": [
    {
     "data": {
      "application/vnd.jupyter.widget-view+json": {
       "model_id": "4928284a5c584377a6375ab182aac67f",
       "version_major": 2,
       "version_minor": 0
      },
      "text/plain": [
       "VBox()"
      ]
     },
     "metadata": {},
     "output_type": "display_data"
    },
    {
     "data": {
      "application/vnd.jupyter.widget-view+json": {
       "model_id": "",
       "version_major": 2,
       "version_minor": 0
      },
      "text/plain": [
       "FloatProgress(value=0.0, bar_style='info', description='Progress:', layout=Layout(height='25px', width='50%'),…"
      ]
     },
     "metadata": {},
     "output_type": "display_data"
    },
    {
     "name": "stdout",
     "output_type": "stream",
     "text": [
      "res57: String = Number of transactions per customer: 3492\n",
      "avgTransactionsPerCustomer: (Int, Int) = (261969719,75000)\n",
      "res62: String = Number of transactions per customer: 3492\n"
     ]
    }
   ],
   "source": [
    "//1. What is the average of transactions for customer?\n",
    "\n",
    "// Two methods\n",
    "// 1st method => easier\n",
    "\"Number of transactions per customer: \" + diskMemoryRdd.count() / cachedCustomer.distinct().count()\n",
    "\n",
    "// 2nd method\n",
    "val avgTransactionsPerCustomer = cachedCustomerTransactions.\n",
    "    aggregate((0,0))((a,v)=>(a._1+v._2, a._2+1),(a1,a2)=>(a1._1+a2._1,a1._2+a2._2)) //crate pair (Customer_transactions, counter_of_customers) and sum each pair\n",
    "   \n",
    "\n",
    "\"Number of transactions per customer: \" + (avgTransactionsPerCustomer._1/avgTransactionsPerCustomer._2) // (total transactions / number of different customers)"
   ]
  },
  {
   "cell_type": "code",
   "execution_count": 23,
   "id": "98b5653c-9774-44f7-b794-96d0e208bd92",
   "metadata": {
    "execution": {
     "iopub.execute_input": "2023-02-11T18:25:37.176103Z",
     "iopub.status.busy": "2023-02-11T18:25:37.175856Z",
     "iopub.status.idle": "2023-02-11T18:29:55.165131Z",
     "shell.execute_reply": "2023-02-11T18:29:55.164478Z",
     "shell.execute_reply.started": "2023-02-11T18:25:37.176079Z"
    },
    "tags": []
   },
   "outputs": [
    {
     "data": {
      "application/vnd.jupyter.widget-view+json": {
       "model_id": "eae49a82de804a589125b1a116417001",
       "version_major": 2,
       "version_minor": 0
      },
      "text/plain": [
       "VBox()"
      ]
     },
     "metadata": {},
     "output_type": "display_data"
    },
    {
     "data": {
      "application/vnd.jupyter.widget-view+json": {
       "model_id": "",
       "version_major": 2,
       "version_minor": 0
      },
      "text/plain": [
       "FloatProgress(value=0.0, bar_style='info', description='Progress:', layout=Layout(height='25px', width='50%'),…"
      ]
     },
     "metadata": {},
     "output_type": "display_data"
    },
    {
     "name": "stdout",
     "output_type": "stream",
     "text": [
      "res67: String = Number of transactions per year: 23815429\n",
      "avgTransactionsPerYear: (Int, Int) = (261969719,11)\n",
      "res71: String = Number of transactions per year: 23815429\n"
     ]
    }
   ],
   "source": [
    "//2. What is the average of transactions for year?\n",
    "\n",
    "// Two methods\n",
    "// 1st method => easier\n",
    "\"Number of transactions per year: \" + diskMemoryRdd.count() / cachedYear.distinct().count()\n",
    "\n",
    "// 2nd method\n",
    "val avgTransactionsPerYear = cachedYearTransactions.\n",
    "    aggregate((0,0))((a,v)=>(a._1+v._2, a._2+1),(a1,a2)=>(a1._1+a2._1,a1._2+a2._2)) //crate pair (transactions_per_year, counter_of_years) and sum each pair\n",
    "\n",
    "\"Number of transactions per year: \" + (avgTransactionsPerYear._1/avgTransactionsPerYear._2) // (total transactions / number of different years)"
   ]
  },
  {
   "cell_type": "code",
   "execution_count": 24,
   "id": "d54724fa-289f-4e4b-b4a4-ff9de2fcd75c",
   "metadata": {
    "execution": {
     "iopub.execute_input": "2023-02-11T18:34:54.964280Z",
     "iopub.status.busy": "2023-02-11T18:34:54.964053Z",
     "iopub.status.idle": "2023-02-11T18:39:25.010568Z",
     "shell.execute_reply": "2023-02-11T18:39:25.009933Z",
     "shell.execute_reply.started": "2023-02-11T18:34:54.964256Z"
    },
    "tags": []
   },
   "outputs": [
    {
     "data": {
      "application/vnd.jupyter.widget-view+json": {
       "model_id": "bafa0b312c3c47b48f9fde1424d946d4",
       "version_major": 2,
       "version_minor": 0
      },
      "text/plain": [
       "VBox()"
      ]
     },
     "metadata": {},
     "output_type": "display_data"
    },
    {
     "data": {
      "application/vnd.jupyter.widget-view+json": {
       "model_id": "",
       "version_major": 2,
       "version_minor": 0
      },
      "text/plain": [
       "FloatProgress(value=0.0, bar_style='info', description='Progress:', layout=Layout(height='25px', width='50%'),…"
      ]
     },
     "metadata": {},
     "output_type": "display_data"
    },
    {
     "name": "stdout",
     "output_type": "stream",
     "text": [
      "res76: String = Number of transactions per expenditure type: 21830809\n",
      "avgTransactionsPerExpenditureType: (Int, Int) = (261969719,12)\n",
      "res80: String = Number of transactions per expenditure type: 21830809\n"
     ]
    }
   ],
   "source": [
    "//3. What is the average of transactions for expenditure type?\n",
    "\n",
    "// Two methods\n",
    "// 1st method => simpler\n",
    "\"Number of transactions per expenditure type: \" + diskMemoryRdd.count() / cachedExpenditureType.distinct().count()\n",
    "\n",
    "// 2nd method\n",
    "val avgTransactionsPerExpenditureType = cachedExpenditureTypeTransactions.\n",
    "    aggregate((0,0))((a,v)=>(a._1+v._2, a._2+1),(a1,a2)=>(a1._1+a2._1,a1._2+a2._2))\n",
    "\n",
    "\"Number of transactions per expenditure type: \" + (avgTransactionsPerExpenditureType._1/avgTransactionsPerExpenditureType._2)"
   ]
  },
  {
   "cell_type": "code",
   "execution_count": null,
   "id": "38851137-eb3e-43bf-8828-6c8d28fcf860",
   "metadata": {},
   "outputs": [],
   "source": [
    "// Save results to a csv file\n",
    "val s3_path_transaction_per_expenditure_type = \"s3a://\"+bucketname+\"/exam-dataset/jobs/transaction-per-expenditure-type.csv\"\n",
    "\n",
    "cachedExpenditureTypeTransactions.\n",
    "    coalesce(1). // put all in one partition to have only one csv file \n",
    "    toDF().\n",
    "    write.\n",
    "    format(\"csv\").\n",
    "    mode(SaveMode.Overwrite).\n",
    "    save(s3_path_transaction_per_expenditure_type)"
   ]
  },
  {
   "cell_type": "code",
   "execution_count": null,
   "id": "5d69a652-cba9-4a62-a4d2-a58f70fa4b4f",
   "metadata": {},
   "outputs": [],
   "source": [
    "// 4. Which is the year with the most number of transactions?\n",
    "\n",
    "val yearWithMostTransactions = cachedYearTransactions.\n",
    "    sortBy(_._2, false). //order by tatal transactions counted descending\n",
    "    first()\n",
    "\n",
    "\"The year with the most number of transactions is: \" + yearWithMostTransactions._1 + \" with a total of : \"+ yearWithMostTransactions._2 +\" transactions\""
   ]
  },
  {
   "cell_type": "code",
   "execution_count": null,
   "id": "7efdb690-a6a3-40c8-95be-3cf622b1ff19",
   "metadata": {},
   "outputs": [],
   "source": [
    "//5. Which is the month with the most number of transactions?\n",
    "val monthWithMoreTransactions = diskMemoryRdd.map(x => (x._6,1)). //create pair (month,counter) for each transaction example: (january, 1) \n",
    "    reduceByKey(_+_).   // sum by month \n",
    "    sortBy(_._2, false). //order by tatal transactions counted descending\n",
    "    first()\n",
    "\n",
    "\n",
    "\"The month with the most number of transactions is: \" +  monthWithMoreTransactions._1 + \" with a total of : \"+ monthWithMoreTransactions._2"
   ]
  },
  {
   "cell_type": "code",
   "execution_count": null,
   "id": "35685ed8-ff47-4c6f-a4ca-a10068d6f6c5",
   "metadata": {},
   "outputs": [],
   "source": [
    "//6. Which is the year-month with the most number of transactions?\n",
    "\n",
    "\n",
    "val pairYearMonthWithMoreTransactions = diskMemoryRdd.map(x => ((x._5, x._6),1)).\n",
    "    reduceByKey(_+_). //reduce in pair (year,month) \n",
    "    sortBy(_._2, false). //order by counter of transactions descending\n",
    "    first()\n",
    "\n",
    "\"The pair Year-Month with the most number of transactions: \" + pairYearMonthWithMoreTransactions"
   ]
  },
  {
   "cell_type": "markdown",
   "id": "231e5d85-b98b-4154-8c17-6fa57899f237",
   "metadata": {},
   "source": [
    "### Analyze customers\n",
    "\n",
    "Analyze customers answering the follow questions:\n",
    "\n",
    "1. What is the customer with the most number of transactions?\n",
    "2. What is the customer with the most amount spent?\n"
   ]
  },
  {
   "cell_type": "code",
   "execution_count": 25,
   "id": "0fed2fa1-f0cc-41fd-b256-a726704623bb",
   "metadata": {
    "execution": {
     "iopub.execute_input": "2023-02-11T18:40:11.300552Z",
     "iopub.status.busy": "2023-02-11T18:40:11.300320Z",
     "iopub.status.idle": "2023-02-11T18:40:13.572638Z",
     "shell.execute_reply": "2023-02-11T18:40:13.571911Z",
     "shell.execute_reply.started": "2023-02-11T18:40:11.300528Z"
    },
    "tags": []
   },
   "outputs": [
    {
     "data": {
      "application/vnd.jupyter.widget-view+json": {
       "model_id": "b3090b6c491d48d7b84cc2dd1ce317f4",
       "version_major": 2,
       "version_minor": 0
      },
      "text/plain": [
       "VBox()"
      ]
     },
     "metadata": {},
     "output_type": "display_data"
    },
    {
     "data": {
      "application/vnd.jupyter.widget-view+json": {
       "model_id": "",
       "version_major": 2,
       "version_minor": 0
      },
      "text/plain": [
       "FloatProgress(value=0.0, bar_style='info', description='Progress:', layout=Layout(height='25px', width='50%'),…"
      ]
     },
     "metadata": {},
     "output_type": "display_data"
    },
    {
     "name": "stdout",
     "output_type": "stream",
     "text": [
      "customerWithMoreTransactions: (TransactionsParser.CustomerId, Int) = (C0YDPQWPBJ,10369)\n",
      "res85: String = Customer: C0YDPQWPBJ has made: 10369\n"
     ]
    }
   ],
   "source": [
    "// 1.  What is the customer with the most number of transactions?\n",
    "\n",
    "// use of sort + first\n",
    "val customerWithMoreTransactions = cachedCustomerTransactions.\n",
    "    sortBy(_._2, false). //order by Transactions descending \n",
    "    first()\n",
    "\n",
    "\"Customer: \" + customerWithMoreTransactions._1 + \" has made: \" + customerWithMoreTransactions._2"
   ]
  },
  {
   "cell_type": "code",
   "execution_count": 6,
   "id": "24785ad2-3c10-4ae7-bb79-2b4c84700b05",
   "metadata": {
    "execution": {
     "iopub.execute_input": "2023-02-12T16:22:26.997404Z",
     "iopub.status.busy": "2023-02-12T16:22:26.997082Z",
     "iopub.status.idle": "2023-02-12T16:22:32.326497Z",
     "shell.execute_reply": "2023-02-12T16:22:32.325889Z",
     "shell.execute_reply.started": "2023-02-12T16:22:26.997370Z"
    },
    "tags": []
   },
   "outputs": [
    {
     "data": {
      "application/vnd.jupyter.widget-view+json": {
       "model_id": "08751acdb9e649efa4276942b3e79bd8",
       "version_major": 2,
       "version_minor": 0
      },
      "text/plain": [
       "VBox()"
      ]
     },
     "metadata": {},
     "output_type": "display_data"
    },
    {
     "data": {
      "application/vnd.jupyter.widget-view+json": {
       "model_id": "",
       "version_major": 2,
       "version_minor": 0
      },
      "text/plain": [
       "FloatProgress(value=0.0, bar_style='info', description='Progress:', layout=Layout(height='25px', width='50%'),…"
      ]
     },
     "metadata": {},
     "output_type": "display_data"
    },
    {
     "name": "stdout",
     "output_type": "stream",
     "text": [
      "cachedCustomersTotalAmounts: org.apache.spark.rdd.RDD[(TransactionsParser.CustomerId, TransactionsParser.Amount)] = ShuffledRDD[8] at reduceByKey at <console>:33\n"
     ]
    }
   ],
   "source": [
    "// Caching the pair (Customer_id, Total_amount_spent) to improve performance for following jobs\n",
    "val cachedCustomersTotalAmounts = diskMemoryRdd.map(x => (x._1, x._9)).\n",
    "                                         reduceByKey(_+_). //sum AMOUNT spent for transactions of each Customer\n",
    "                                         persist(MEMORY_AND_DISK_SER) "
   ]
  },
  {
   "cell_type": "code",
   "execution_count": 10,
   "id": "653b393a-9474-4a3c-88c5-d272a8ea59e2",
   "metadata": {
    "execution": {
     "iopub.execute_input": "2023-02-12T15:32:40.838733Z",
     "iopub.status.busy": "2023-02-12T15:32:40.838510Z",
     "iopub.status.idle": "2023-02-12T15:54:20.103723Z",
     "shell.execute_reply": "2023-02-12T15:54:20.102991Z",
     "shell.execute_reply.started": "2023-02-12T15:32:40.838709Z"
    },
    "tags": []
   },
   "outputs": [
    {
     "data": {
      "application/vnd.jupyter.widget-view+json": {
       "model_id": "e2032a5f581a402fa76d016b2c267e8a",
       "version_major": 2,
       "version_minor": 0
      },
      "text/plain": [
       "VBox()"
      ]
     },
     "metadata": {},
     "output_type": "display_data"
    },
    {
     "data": {
      "application/vnd.jupyter.widget-view+json": {
       "model_id": "",
       "version_major": 2,
       "version_minor": 0
      },
      "text/plain": [
       "FloatProgress(value=0.0, bar_style='info', description='Progress:', layout=Layout(height='25px', width='50%'),…"
      ]
     },
     "metadata": {},
     "output_type": "display_data"
    },
    {
     "name": "stdout",
     "output_type": "stream",
     "text": [
      "customerWithMostAmountSpent: (TransactionsParser.CustomerId, TransactionsParser.Amount) = (CP2KXQSX9I,2310805.889999996)\n",
      "res22: String = Customer: CP2KXQSX9I with: 2310805.889999996\n"
     ]
    }
   ],
   "source": [
    "//2.  What is the customer with the most amount spent?\n",
    "\n",
    "val customerWithMostAmountSpent = cachedCustomersTotalAmounts.\n",
    "    sortBy(_._2, false). //order by Total amount spent descending \n",
    "    first()\n",
    "\n",
    "\"Customer: \" + customerWithMostAmountSpent._1 + \" with: \" + customerWithMostAmountSpent._2\n"
   ]
  },
  {
   "cell_type": "markdown",
   "id": "283d492f-485a-406c-9fd4-5e4eaff04119",
   "metadata": {},
   "source": [
    "# Classification\n",
    "\n",
    "The goal of this project is classify customers according to their spending, assigning them a score, then add to each line the score and recalculate the total transactions on each type of expense and then graph the result with a heatmap. \n",
    "In doing this you also want to meet the following tasks: \n",
    "\n",
    "1. Classify each customer on the basis of how much he has spent in total using a rank from 1 to 5\n",
    "\n",
    "2. Classify each expenditure type on the basis of how much is the total spent using a rank from 1 to 5\n",
    "\n",
    "3. Classify each expenditure type on the basis of how much is the total spent for each customer using a rank from 1 to 5\n",
    "\n",
    "where: \n",
    "- 1 means low \n",
    "- 2 means mid-low \n",
    "- 3 means mid\n",
    "- 4 means mid-high\n",
    "- 5 means high\n",
    "\n"
   ]
  },
  {
   "cell_type": "markdown",
   "id": "50ffd4e5-7237-4b85-9bec-42285636e039",
   "metadata": {
    "execution": {
     "iopub.execute_input": "2023-02-11T17:17:03.607719Z",
     "iopub.status.busy": "2023-02-11T17:17:03.607481Z",
     "iopub.status.idle": "2023-02-11T17:17:04.401177Z",
     "shell.execute_reply": "2023-02-11T17:17:04.400546Z",
     "shell.execute_reply.started": "2023-02-11T17:17:03.607694Z"
    },
    "tags": []
   },
   "source": [
    " ### Task 1\n",
    " Classify each customer on the basis of how much he has spent in total using a rank from 1 to 5."
   ]
  },
  {
   "cell_type": "code",
   "execution_count": 28,
   "id": "edb8ee25-60d9-4a24-b09d-0963050b6138",
   "metadata": {
    "execution": {
     "iopub.execute_input": "2023-02-11T18:42:46.167552Z",
     "iopub.status.busy": "2023-02-11T18:42:46.167326Z",
     "iopub.status.idle": "2023-02-11T18:42:46.965534Z",
     "shell.execute_reply": "2023-02-11T18:42:46.964826Z",
     "shell.execute_reply.started": "2023-02-11T18:42:46.167528Z"
    },
    "tags": []
   },
   "outputs": [
    {
     "data": {
      "application/vnd.jupyter.widget-view+json": {
       "model_id": "5f5d430b81a347bc9b724d8ca7633ac8",
       "version_major": 2,
       "version_minor": 0
      },
      "text/plain": [
       "VBox()"
      ]
     },
     "metadata": {},
     "output_type": "display_data"
    },
    {
     "data": {
      "application/vnd.jupyter.widget-view+json": {
       "model_id": "",
       "version_major": 2,
       "version_minor": 0
      },
      "text/plain": [
       "FloatProgress(value=0.0, bar_style='info', description='Progress:', layout=Layout(height='25px', width='50%'),…"
      ]
     },
     "metadata": {},
     "output_type": "display_data"
    },
    {
     "name": "stdout",
     "output_type": "stream",
     "text": [
      "totalDistinctCustomers: Long = 75000\n",
      "res93: String = Total distinct customers 75000\n"
     ]
    }
   ],
   "source": [
    "// Number of distinct customer \n",
    "val totalDistinctCustomers = cachedCustomersTotalAmounts.count() //or cachedCustomer.distinct().count()\n",
    "\n",
    "\"Total distinct customers \" + totalDistinctCustomers"
   ]
  },
  {
   "cell_type": "code",
   "execution_count": 30,
   "id": "9cadf422-3ceb-491d-8b63-bdda42022c7a",
   "metadata": {
    "execution": {
     "iopub.execute_input": "2023-02-11T18:44:59.514619Z",
     "iopub.status.busy": "2023-02-11T18:44:59.514392Z",
     "iopub.status.idle": "2023-02-11T18:45:00.306784Z",
     "shell.execute_reply": "2023-02-11T18:45:00.306017Z",
     "shell.execute_reply.started": "2023-02-11T18:44:59.514593Z"
    },
    "tags": []
   },
   "outputs": [
    {
     "data": {
      "application/vnd.jupyter.widget-view+json": {
       "model_id": "fd5a478f7e4e43e7a139caad984ae5ab",
       "version_major": 2,
       "version_minor": 0
      },
      "text/plain": [
       "VBox()"
      ]
     },
     "metadata": {},
     "output_type": "display_data"
    },
    {
     "data": {
      "application/vnd.jupyter.widget-view+json": {
       "model_id": "",
       "version_major": 2,
       "version_minor": 0
      },
      "text/plain": [
       "FloatProgress(value=0.0, bar_style='info', description='Progress:', layout=Layout(height='25px', width='50%'),…"
      ]
     },
     "metadata": {},
     "output_type": "display_data"
    },
    {
     "name": "stdout",
     "output_type": "stream",
     "text": [
      "lowestBound: Int = 15000\n",
      "lowBound: Int = 30000\n",
      "mediumBound: Int = 45000\n",
      "highBound: Int = 60000\n"
     ]
    }
   ],
   "source": [
    "// To define the bounds of ranking \n",
    "val lowestBound = (totalDistinctCustomers * 0.2).toInt \n",
    "val lowBound = (totalDistinctCustomers * 0.4).toInt \n",
    "val mediumBound = (totalDistinctCustomers * 0.6).toInt\n",
    "val highBound = (totalDistinctCustomers * 0.8).toInt"
   ]
  },
  {
   "cell_type": "code",
   "execution_count": 31,
   "id": "ab585498-144a-4904-b4ef-abfc0f8b2078",
   "metadata": {
    "execution": {
     "iopub.execute_input": "2023-02-11T18:45:24.825474Z",
     "iopub.status.busy": "2023-02-11T18:45:24.825223Z",
     "iopub.status.idle": "2023-02-11T18:45:28.133922Z",
     "shell.execute_reply": "2023-02-11T18:45:28.133154Z",
     "shell.execute_reply.started": "2023-02-11T18:45:24.825447Z"
    },
    "tags": []
   },
   "outputs": [
    {
     "data": {
      "application/vnd.jupyter.widget-view+json": {
       "model_id": "70bbd7b5d89f432a9ba59b8e90b49ffd",
       "version_major": 2,
       "version_minor": 0
      },
      "text/plain": [
       "VBox()"
      ]
     },
     "metadata": {},
     "output_type": "display_data"
    },
    {
     "data": {
      "application/vnd.jupyter.widget-view+json": {
       "model_id": "",
       "version_major": 2,
       "version_minor": 0
      },
      "text/plain": [
       "FloatProgress(value=0.0, bar_style='info', description='Progress:', layout=Layout(height='25px', width='50%'),…"
      ]
     },
     "metadata": {},
     "output_type": "display_data"
    },
    {
     "name": "stdout",
     "output_type": "stream",
     "text": [
      "rankCustomerPerTotalAmount: org.apache.spark.rdd.RDD[(TransactionsParser.CustomerId, TransactionsParser.Amount, Int)] = MapPartitionsRDD[92] at map at <console>:42\n"
     ]
    }
   ],
   "source": [
    "val rankCustomerPerTotalAmount = cachedCustomersTotalAmounts.\n",
    "    sortBy(x => x._2, true). //sort by total amount ascending\n",
    "    zipWithIndex(). // gives an index \n",
    "    map{ x => //x is ((customer_id, total_amount),index)\n",
    "        val rank = x._2 match { //where v is the index in the list of consumers sorted by total amount ascending = x._2(index)\n",
    "            case v if (v <= lowestBound) => 1\n",
    "            case v if (v <= lowBound) => 2\n",
    "            case v if (v <= mediumBound) => 3\n",
    "            case v if (v <= highBound) => 4\n",
    "            case _ => 5\n",
    "        }\n",
    "        (x._1._1, x._1._2, rank) // return (customer id , taotal ammount , rank)\n",
    "    }"
   ]
  },
  {
   "cell_type": "code",
   "execution_count": null,
   "id": "25e20dbc-3ec3-4d44-a569-28aee1951099",
   "metadata": {},
   "outputs": [],
   "source": [
    "// Show for each customer the ranking based on the total amount \n",
    "rankCustomerPerTotalAmount.collect().foreach(result => print(\"customer: \"+ result._1+\" with: total amount spent: \"+result._2+ \" has rank: \"+result._3 + \"\\n\"))"
   ]
  },
  {
   "cell_type": "code",
   "execution_count": 33,
   "id": "f4540aff-0e30-4d6a-82d9-261365c1f413",
   "metadata": {
    "execution": {
     "iopub.execute_input": "2023-02-11T18:47:41.155505Z",
     "iopub.status.busy": "2023-02-11T18:47:41.155279Z",
     "iopub.status.idle": "2023-02-11T18:47:54.479131Z",
     "shell.execute_reply": "2023-02-11T18:47:54.478314Z",
     "shell.execute_reply.started": "2023-02-11T18:47:41.155482Z"
    },
    "tags": []
   },
   "outputs": [
    {
     "data": {
      "application/vnd.jupyter.widget-view+json": {
       "model_id": "4e0fd2bd1739463d934a5dae86ebb092",
       "version_major": 2,
       "version_minor": 0
      },
      "text/plain": [
       "VBox()"
      ]
     },
     "metadata": {},
     "output_type": "display_data"
    },
    {
     "data": {
      "application/vnd.jupyter.widget-view+json": {
       "model_id": "",
       "version_major": 2,
       "version_minor": 0
      },
      "text/plain": [
       "FloatProgress(value=0.0, bar_style='info', description='Progress:', layout=Layout(height='25px', width='50%'),…"
      ]
     },
     "metadata": {},
     "output_type": "display_data"
    },
    {
     "name": "stdout",
     "output_type": "stream",
     "text": [
      "s3_path_rank_customer_per_total_amount: String = s3a://unibo-bd2122-arettaroli/exam-dataset/jobs/rank-customer-per-total-amount.csv\n"
     ]
    }
   ],
   "source": [
    "// Save results to a csv file\n",
    "val s3_path_rank_customer_per_total_amount= \"s3a://\"+bucketname+\"/exam-dataset/jobs/rank-customer-per-total-amount.csv\"\n",
    "\n",
    "rankCustomerPerTotalAmount.\n",
    "    coalesce(1).\n",
    "    toDF().\n",
    "    write.\n",
    "    format(\"csv\").\n",
    "    mode(SaveMode.Overwrite).\n",
    "    save(s3_path_rank_customer_per_total_amount)"
   ]
  },
  {
   "cell_type": "markdown",
   "id": "258892ca-853b-4d91-ac84-a385d4c55bd4",
   "metadata": {},
   "source": [
    "### Task 2\n",
    "Classify each expenditure type on the basis of how much is the total spent using a rank from 1 to 5."
   ]
  },
  {
   "cell_type": "code",
   "execution_count": 34,
   "id": "008cda28-9217-4d67-9840-d0943549320b",
   "metadata": {
    "execution": {
     "iopub.execute_input": "2023-02-11T18:48:49.051787Z",
     "iopub.status.busy": "2023-02-11T18:48:49.051429Z",
     "iopub.status.idle": "2023-02-11T18:49:10.404178Z",
     "shell.execute_reply": "2023-02-11T18:49:10.403452Z",
     "shell.execute_reply.started": "2023-02-11T18:48:49.051746Z"
    },
    "tags": []
   },
   "outputs": [
    {
     "data": {
      "application/vnd.jupyter.widget-view+json": {
       "model_id": "7ef63b49c6f5474483e2c9593942b9de",
       "version_major": 2,
       "version_minor": 0
      },
      "text/plain": [
       "VBox()"
      ]
     },
     "metadata": {},
     "output_type": "display_data"
    },
    {
     "data": {
      "application/vnd.jupyter.widget-view+json": {
       "model_id": "",
       "version_major": 2,
       "version_minor": 0
      },
      "text/plain": [
       "FloatProgress(value=0.0, bar_style='info', description='Progress:', layout=Layout(height='25px', width='50%'),…"
      ]
     },
     "metadata": {},
     "output_type": "display_data"
    },
    {
     "name": "stdout",
     "output_type": "stream",
     "text": [
      "distinctExpenditureType: Long = 12\n"
     ]
    }
   ],
   "source": [
    "// Number of distinct expenditure type\n",
    "val distinctExpenditureType = cachedExpenditureType.distinct().count()"
   ]
  },
  {
   "cell_type": "code",
   "execution_count": 35,
   "id": "54f2fd71-7206-4a6c-b2df-b506ccfb4c4f",
   "metadata": {
    "execution": {
     "iopub.execute_input": "2023-02-11T18:49:19.372009Z",
     "iopub.status.busy": "2023-02-11T18:49:19.371776Z",
     "iopub.status.idle": "2023-02-11T18:49:20.140596Z",
     "shell.execute_reply": "2023-02-11T18:49:20.139844Z",
     "shell.execute_reply.started": "2023-02-11T18:49:19.371984Z"
    },
    "tags": []
   },
   "outputs": [
    {
     "data": {
      "application/vnd.jupyter.widget-view+json": {
       "model_id": "da5e1a136e454aca93a84682c7bd66fd",
       "version_major": 2,
       "version_minor": 0
      },
      "text/plain": [
       "VBox()"
      ]
     },
     "metadata": {},
     "output_type": "display_data"
    },
    {
     "data": {
      "application/vnd.jupyter.widget-view+json": {
       "model_id": "",
       "version_major": 2,
       "version_minor": 0
      },
      "text/plain": [
       "FloatProgress(value=0.0, bar_style='info', description='Progress:', layout=Layout(height='25px', width='50%'),…"
      ]
     },
     "metadata": {},
     "output_type": "display_data"
    },
    {
     "name": "stdout",
     "output_type": "stream",
     "text": [
      "lowestBound: Int = 2\n",
      "lowBound: Int = 4\n",
      "mediumBound: Int = 7\n",
      "highBound: Int = 9\n"
     ]
    }
   ],
   "source": [
    "// To define the bounds of ranking \n",
    "val lowestBound = (distinctExpenditureType * 0.2).toInt \n",
    "val lowBound = (distinctExpenditureType * 0.4).toInt \n",
    "val mediumBound = (distinctExpenditureType * 0.6).toInt\n",
    "val highBound = (distinctExpenditureType * 0.8).toInt"
   ]
  },
  {
   "cell_type": "code",
   "execution_count": 37,
   "id": "c8c36f1a-f80e-4893-86ee-bcaa395e8b3f",
   "metadata": {
    "execution": {
     "iopub.execute_input": "2023-02-11T18:58:15.454528Z",
     "iopub.status.busy": "2023-02-11T18:58:15.453950Z",
     "iopub.status.idle": "2023-02-11T18:59:16.110068Z",
     "shell.execute_reply": "2023-02-11T18:59:16.109340Z",
     "shell.execute_reply.started": "2023-02-11T18:58:15.454484Z"
    },
    "tags": []
   },
   "outputs": [
    {
     "data": {
      "application/vnd.jupyter.widget-view+json": {
       "model_id": "30e2133c2f1f4f7e88469f5b2c185181",
       "version_major": 2,
       "version_minor": 0
      },
      "text/plain": [
       "VBox()"
      ]
     },
     "metadata": {},
     "output_type": "display_data"
    },
    {
     "data": {
      "application/vnd.jupyter.widget-view+json": {
       "model_id": "",
       "version_major": 2,
       "version_minor": 0
      },
      "text/plain": [
       "FloatProgress(value=0.0, bar_style='info', description='Progress:', layout=Layout(height='25px', width='50%'),…"
      ]
     },
     "metadata": {},
     "output_type": "display_data"
    },
    {
     "name": "stdout",
     "output_type": "stream",
     "text": [
      "rankExpenditureTypePerTotalAmount: org.apache.spark.rdd.RDD[(TransactionsParser.ExpenditureType, TransactionsParser.Amount, Int)] = MapPartitionsRDD[116] at map at <console>:43\n"
     ]
    }
   ],
   "source": [
    "val rankExpenditureTypePerTotalAmount = cachedExpenditureTypeAmount. // pair EXPENDITURE_TYPE - AMOUNT\n",
    "    reduceByKey(_+_). //sum of amount based on expenditure type(key)\n",
    "    sortBy(x => x._2, true). //sort by total AMOUNT per expenditure type ascending\n",
    "    zipWithIndex(). // gives an index \n",
    "    map{ x => //x is ((expenditure_type, total_amount),index)\n",
    "        val rank = x._2 match { //where v is the index in the list of expenditure type sorted by total amount ascending = x._2(index)\n",
    "            case v if (v <= lowestBound) => 1\n",
    "            case v if (v <= lowBound) => 2\n",
    "            case v if (v <= mediumBound) => 3\n",
    "            case v if (v <= highBound) => 4\n",
    "            case _ => 5\n",
    "        }\n",
    "        (x._1._1, x._1._2, rank) // return (expenditure type , taotal ammount , rank)\n",
    "    }"
   ]
  },
  {
   "cell_type": "code",
   "execution_count": 38,
   "id": "8e0a7b3f-d47d-48eb-95cd-d04f775109a0",
   "metadata": {
    "execution": {
     "iopub.execute_input": "2023-02-11T18:59:22.765120Z",
     "iopub.status.busy": "2023-02-11T18:59:22.764897Z",
     "iopub.status.idle": "2023-02-11T18:59:23.546054Z",
     "shell.execute_reply": "2023-02-11T18:59:23.545322Z",
     "shell.execute_reply.started": "2023-02-11T18:59:22.765096Z"
    },
    "tags": []
   },
   "outputs": [
    {
     "data": {
      "application/vnd.jupyter.widget-view+json": {
       "model_id": "6c38c6faa7074c579e6c7b4d8d65c2bf",
       "version_major": 2,
       "version_minor": 0
      },
      "text/plain": [
       "VBox()"
      ]
     },
     "metadata": {},
     "output_type": "display_data"
    },
    {
     "data": {
      "application/vnd.jupyter.widget-view+json": {
       "model_id": "",
       "version_major": 2,
       "version_minor": 0
      },
      "text/plain": [
       "FloatProgress(value=0.0, bar_style='info', description='Progress:', layout=Layout(height='25px', width='50%'),…"
      ]
     },
     "metadata": {},
     "output_type": "display_data"
    },
    {
     "name": "stdout",
     "output_type": "stream",
     "text": [
      "(Fines,8074186.509999991,1)\n",
      "(Savings,4.85263415399999E8,1)\n",
      "(Gambling,4.9470059752999973E8,1)\n",
      "(Education,9.591656909000006E8,2)\n",
      "(Tax,1.2155885493200004E9,2)\n",
      "(Health,1.236805636089999E9,3)\n",
      "(Clothing,1.3922672867199986E9,3)\n",
      "(Bills and Utilities,1.7967274707599993E9,3)\n",
      "(Housing,2.6891112445500026E9,4)\n",
      "(Entertainment,3.5645641079899993E9,4)\n",
      "(Groceries,3.6450088438400044E9,5)\n",
      "(Motor/Travel,3.879752319500002E9,5)\n"
     ]
    }
   ],
   "source": [
    "// Show for each expenditure type the ranking based on amount\n",
    "rankExpenditureTypePerTotalAmount.collect().foreach(result => print(result + \"\\n\"))"
   ]
  },
  {
   "cell_type": "code",
   "execution_count": 39,
   "id": "df9a415a-1804-41cd-882a-a414f1c6e225",
   "metadata": {
    "execution": {
     "iopub.execute_input": "2023-02-11T18:59:58.368424Z",
     "iopub.status.busy": "2023-02-11T18:59:58.368138Z",
     "iopub.status.idle": "2023-02-11T19:00:03.678812Z",
     "shell.execute_reply": "2023-02-11T19:00:03.678200Z",
     "shell.execute_reply.started": "2023-02-11T18:59:58.368381Z"
    },
    "tags": []
   },
   "outputs": [
    {
     "data": {
      "application/vnd.jupyter.widget-view+json": {
       "model_id": "efbd94d73add40c2b16edddd144d62f5",
       "version_major": 2,
       "version_minor": 0
      },
      "text/plain": [
       "VBox()"
      ]
     },
     "metadata": {},
     "output_type": "display_data"
    },
    {
     "data": {
      "application/vnd.jupyter.widget-view+json": {
       "model_id": "",
       "version_major": 2,
       "version_minor": 0
      },
      "text/plain": [
       "FloatProgress(value=0.0, bar_style='info', description='Progress:', layout=Layout(height='25px', width='50%'),…"
      ]
     },
     "metadata": {},
     "output_type": "display_data"
    },
    {
     "name": "stdout",
     "output_type": "stream",
     "text": [
      "s3_path_rank_expenditure_type_per_total_amount: String = s3a://unibo-bd2122-arettaroli/exam-dataset/jobs/rank-expenditure-type-per-total-amount.csv\n"
     ]
    }
   ],
   "source": [
    "// Save results to a csv file\n",
    "val s3_path_rank_expenditure_type_per_total_amount = \"s3a://\"+bucketname+\"/exam-dataset/jobs/rank-expenditure-type-per-total-amount.csv\"\n",
    "\n",
    "rankExpenditureTypePerTotalAmount.\n",
    "    coalesce(1).\n",
    "    toDF().\n",
    "    write.\n",
    "    format(\"csv\").\n",
    "    mode(SaveMode.Overwrite).\n",
    "    save(s3_path_rank_expenditure_type_per_total_amount)"
   ]
  },
  {
   "cell_type": "markdown",
   "id": "4b8e4beb-a01d-408e-9584-9670c30cf875",
   "metadata": {},
   "source": [
    "### Task 3\n",
    "Classify each expenditure type on the basis of how much is the total spent for each customer using a rank from 1 to 5."
   ]
  },
  {
   "cell_type": "code",
   "execution_count": 7,
   "id": "e38f8793-ba57-407e-bd53-b4777f5b4735",
   "metadata": {
    "execution": {
     "iopub.execute_input": "2023-02-12T16:23:00.674993Z",
     "iopub.status.busy": "2023-02-12T16:23:00.674678Z",
     "iopub.status.idle": "2023-02-12T16:44:26.861528Z",
     "shell.execute_reply": "2023-02-12T16:44:26.860942Z",
     "shell.execute_reply.started": "2023-02-12T16:23:00.674960Z"
    },
    "tags": []
   },
   "outputs": [
    {
     "data": {
      "application/vnd.jupyter.widget-view+json": {
       "model_id": "ef1c55f95bc743278ea2e8e49a8b3cd6",
       "version_major": 2,
       "version_minor": 0
      },
      "text/plain": [
       "VBox()"
      ]
     },
     "metadata": {},
     "output_type": "display_data"
    },
    {
     "data": {
      "application/vnd.jupyter.widget-view+json": {
       "model_id": "",
       "version_major": 2,
       "version_minor": 0
      },
      "text/plain": [
       "FloatProgress(value=0.0, bar_style='info', description='Progress:', layout=Layout(height='25px', width='50%'),…"
      ]
     },
     "metadata": {},
     "output_type": "display_data"
    },
    {
     "name": "stdout",
     "output_type": "stream",
     "text": [
      "totalDistinctCustomers: Long = 75000\n",
      "res20: String = Total distinct customers 75000\n"
     ]
    }
   ],
   "source": [
    "// Number of distinct customer \n",
    "val totalDistinctCustomers = cachedCustomersTotalAmounts.count() //or cachedCustomer.distinct().count()\n",
    "\n",
    "\"Total distinct customers \" + totalDistinctCustomers"
   ]
  },
  {
   "cell_type": "code",
   "execution_count": 8,
   "id": "5ace842e-d969-4491-8225-949f6775c20c",
   "metadata": {
    "execution": {
     "iopub.execute_input": "2023-02-12T16:44:52.324321Z",
     "iopub.status.busy": "2023-02-12T16:44:52.324017Z",
     "iopub.status.idle": "2023-02-12T16:44:54.650124Z",
     "shell.execute_reply": "2023-02-12T16:44:54.649454Z",
     "shell.execute_reply.started": "2023-02-12T16:44:52.324287Z"
    },
    "tags": []
   },
   "outputs": [
    {
     "data": {
      "application/vnd.jupyter.widget-view+json": {
       "model_id": "2914cfb3dac84602985c875b15e4b837",
       "version_major": 2,
       "version_minor": 0
      },
      "text/plain": [
       "VBox()"
      ]
     },
     "metadata": {},
     "output_type": "display_data"
    },
    {
     "data": {
      "application/vnd.jupyter.widget-view+json": {
       "model_id": "",
       "version_major": 2,
       "version_minor": 0
      },
      "text/plain": [
       "FloatProgress(value=0.0, bar_style='info', description='Progress:', layout=Layout(height='25px', width='50%'),…"
      ]
     },
     "metadata": {},
     "output_type": "display_data"
    },
    {
     "name": "stdout",
     "output_type": "stream",
     "text": [
      "lowestBound: Int = 15000\n",
      "lowBound: Int = 30000\n",
      "mediumBound: Int = 45000\n",
      "highBound: Int = 60000\n"
     ]
    }
   ],
   "source": [
    "// To define the bounds of ranking \n",
    "val lowestBound = (totalDistinctCustomers * 0.2).toInt \n",
    "val lowBound = (totalDistinctCustomers * 0.4).toInt \n",
    "val mediumBound = (totalDistinctCustomers * 0.6).toInt\n",
    "val highBound = (totalDistinctCustomers * 0.8).toInt"
   ]
  },
  {
   "cell_type": "code",
   "execution_count": 9,
   "id": "126161fa-7799-4eb1-a679-bda0c080242d",
   "metadata": {
    "execution": {
     "iopub.execute_input": "2023-02-12T16:45:09.937018Z",
     "iopub.status.busy": "2023-02-12T16:45:09.936725Z",
     "iopub.status.idle": "2023-02-12T16:45:10.739938Z",
     "shell.execute_reply": "2023-02-12T16:45:10.739273Z",
     "shell.execute_reply.started": "2023-02-12T16:45:09.936985Z"
    },
    "tags": []
   },
   "outputs": [
    {
     "data": {
      "application/vnd.jupyter.widget-view+json": {
       "model_id": "48f9bc57d62e47c5bb1b6f647b6174c3",
       "version_major": 2,
       "version_minor": 0
      },
      "text/plain": [
       "VBox()"
      ]
     },
     "metadata": {},
     "output_type": "display_data"
    },
    {
     "data": {
      "application/vnd.jupyter.widget-view+json": {
       "model_id": "",
       "version_major": 2,
       "version_minor": 0
      },
      "text/plain": [
       "FloatProgress(value=0.0, bar_style='info', description='Progress:', layout=Layout(height='25px', width='50%'),…"
      ]
     },
     "metadata": {},
     "output_type": "display_data"
    },
    {
     "name": "stdout",
     "output_type": "stream",
     "text": [
      "rddOriginal: org.apache.spark.rdd.RDD[(TransactionsParser.CustomerId, (TransactionsParser.ExpenditureType, TransactionsParser.Amount))] = MapPartitionsRDD[9] at map at <console>:32\n"
     ]
    }
   ],
   "source": [
    "// Key by customers for join, the value is the expenditure type and the amount of transaction\n",
    "val rddOriginal = diskMemoryRdd.map(x => (x._1, (x._8, x._9))) //create a pair (customers_id, (expenditure_type,amount))"
   ]
  },
  {
   "cell_type": "code",
   "execution_count": 11,
   "id": "648dc581-1435-4ca5-aa7f-7d8d79a2368a",
   "metadata": {
    "execution": {
     "iopub.execute_input": "2023-02-12T16:55:01.801141Z",
     "iopub.status.busy": "2023-02-12T16:55:01.800845Z",
     "iopub.status.idle": "2023-02-12T16:55:07.159136Z",
     "shell.execute_reply": "2023-02-12T16:55:07.158376Z",
     "shell.execute_reply.started": "2023-02-12T16:55:01.801106Z"
    },
    "tags": []
   },
   "outputs": [
    {
     "data": {
      "application/vnd.jupyter.widget-view+json": {
       "model_id": "2c0d917515b644cead346d24570a6f82",
       "version_major": 2,
       "version_minor": 0
      },
      "text/plain": [
       "VBox()"
      ]
     },
     "metadata": {},
     "output_type": "display_data"
    },
    {
     "data": {
      "application/vnd.jupyter.widget-view+json": {
       "model_id": "",
       "version_major": 2,
       "version_minor": 0
      },
      "text/plain": [
       "FloatProgress(value=0.0, bar_style='info', description='Progress:', layout=Layout(height='25px', width='50%'),…"
      ]
     },
     "metadata": {},
     "output_type": "display_data"
    },
    {
     "name": "stdout",
     "output_type": "stream",
     "text": [
      "rankPerExpenditureType: org.apache.spark.rdd.RDD[((TransactionsParser.ExpenditureType, Int), TransactionsParser.Amount)] = ShuffledRDD[31] at reduceByKey at <console>:57\n"
     ]
    }
   ],
   "source": [
    "// Join on rddOriginal and then key by Expenditure type and Ranking and sum amounts\n",
    "val ExpenditureTypePerCustomerRank = cachedCustomersTotalAmounts. // pair (customers_id,total amount spent)\n",
    "    sortBy(x => x._2, true). //sort by total amount spent ascending\n",
    "    zipWithIndex(). // gives an index\n",
    "    map{ x => //x is ((customers_id,total amount spent),index)\n",
    "        val rank = x._2 match { //where v is the index in the list of consumers sorted by total amount ascending = x._2(index)\n",
    "            case v if (v <= lowestBound) => 1\n",
    "            case v if (v <= lowBound) => 2\n",
    "            case v if (v <= mediumBound) => 3\n",
    "            case v if (v <= highBound) => 4\n",
    "            case _ => 5\n",
    "        }\n",
    "        (x._1._1, rank) // return pair (customers_id, rank)\n",
    "    }. \n",
    "    join(rddOriginal). //(customers_id, rank)  (customers_id, (expenditure_type,amount)) => (customer_id, (rank, (expenditure_type,amount))) es: (CIRTTURCZT,(4,(Entertainment,49.69)))  to see the structure you can use .take(x).foreach(result=>print(result))\n",
    "    map(x => ((x._2._2._1, x._2._1), x._2._2._2)). // ((espenditure type, rank), ammount)\n",
    "    reduceByKey(_+_) //=> sum amount by (espenditure type, rank) as key "
   ]
  },
  {
   "cell_type": "code",
   "execution_count": 13,
   "id": "ac56b40c-26eb-45ac-ac6b-8ae8005eefd8",
   "metadata": {
    "execution": {
     "iopub.execute_input": "2023-02-12T16:59:42.802732Z",
     "iopub.status.busy": "2023-02-12T16:59:42.802427Z",
     "iopub.status.idle": "2023-02-12T17:06:31.795667Z",
     "shell.execute_reply": "2023-02-12T17:06:31.794977Z",
     "shell.execute_reply.started": "2023-02-12T16:59:42.802696Z"
    },
    "tags": []
   },
   "outputs": [
    {
     "data": {
      "application/vnd.jupyter.widget-view+json": {
       "model_id": "3a3ec152bcf147be92c52170cb91f5fe",
       "version_major": 2,
       "version_minor": 0
      },
      "text/plain": [
       "VBox()"
      ]
     },
     "metadata": {},
     "output_type": "display_data"
    },
    {
     "data": {
      "application/vnd.jupyter.widget-view+json": {
       "model_id": "",
       "version_major": 2,
       "version_minor": 0
      },
      "text/plain": [
       "FloatProgress(value=0.0, bar_style='info', description='Progress:', layout=Layout(height='25px', width='50%'),…"
      ]
     },
     "metadata": {},
     "output_type": "display_data"
    },
    {
     "name": "stdout",
     "output_type": "stream",
     "text": [
      "s3_path_customer_rank_per_expenditure_type: String = s3a://unibo-bd2122-arettaroli/exam-dataset/jobs/expenditure-type-per-customer-rank-per-total-amount.csv\n"
     ]
    }
   ],
   "source": [
    "// Save results to a csv file\n",
    "val s3_path_customer_rank_per_expenditure_type = \"s3a://\"+bucketname+\"/exam-dataset/jobs/expenditure-type-per-customer-rank-per-total-amount.csv\"\n",
    "\n",
    "rankPerExpenditureType.\n",
    "    map(x => (x._1._1, x._1._2, x._2)). //map in (expenditure type, ranking, amount)\n",
    "    coalesce(1).\n",
    "    toDF().\n",
    "    write.\n",
    "    format(\"csv\").\n",
    "    mode(SaveMode.Overwrite).\n",
    "    save(s3_path_customer_rank_per_expenditure_type)"
   ]
  }
 ],
 "metadata": {
  "kernelspec": {
   "display_name": "Spark",
   "language": "",
   "name": "sparkkernel"
  },
  "language_info": {
   "codemirror_mode": "text/x-scala",
   "mimetype": "text/x-scala",
   "name": "scala",
   "pygments_lexer": "scala"
  }
 },
 "nbformat": 4,
 "nbformat_minor": 5
}
